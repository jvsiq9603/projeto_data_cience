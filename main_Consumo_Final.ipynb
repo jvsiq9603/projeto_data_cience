{
  "nbformat": 4,
  "nbformat_minor": 0,
  "metadata": {
    "colab": {
      "provenance": []
    },
    "kernelspec": {
      "name": "python3",
      "display_name": "Python 3"
    },
    "widgets": {
      "application/vnd.jupyter.widget-state+json": {
        "604188b5e8f149fd903b55855106c751": {
          "model_module": "@jupyter-widgets/controls",
          "model_name": "FloatSliderModel",
          "model_module_version": "1.5.0",
          "state": {
            "_dom_classes": [],
            "_model_module": "@jupyter-widgets/controls",
            "_model_module_version": "1.5.0",
            "_model_name": "FloatSliderModel",
            "_view_count": null,
            "_view_module": "@jupyter-widgets/controls",
            "_view_module_version": "1.5.0",
            "_view_name": "FloatSliderView",
            "continuous_update": true,
            "description": "Peso (kg):",
            "description_tooltip": null,
            "disabled": false,
            "layout": "IPY_MODEL_75f3d322293943c28bcec324d3983edb",
            "max": 3000,
            "min": 500,
            "orientation": "horizontal",
            "readout": true,
            "readout_format": ".2f",
            "step": 50,
            "style": "IPY_MODEL_e63ce67338134592a489d815715cf06e",
            "value": 3000
          }
        },
        "75f3d322293943c28bcec324d3983edb": {
          "model_module": "@jupyter-widgets/base",
          "model_name": "LayoutModel",
          "model_module_version": "1.2.0",
          "state": {
            "_model_module": "@jupyter-widgets/base",
            "_model_module_version": "1.2.0",
            "_model_name": "LayoutModel",
            "_view_count": null,
            "_view_module": "@jupyter-widgets/base",
            "_view_module_version": "1.2.0",
            "_view_name": "LayoutView",
            "align_content": null,
            "align_items": null,
            "align_self": null,
            "border": null,
            "bottom": null,
            "display": null,
            "flex": null,
            "flex_flow": null,
            "grid_area": null,
            "grid_auto_columns": null,
            "grid_auto_flow": null,
            "grid_auto_rows": null,
            "grid_column": null,
            "grid_gap": null,
            "grid_row": null,
            "grid_template_areas": null,
            "grid_template_columns": null,
            "grid_template_rows": null,
            "height": null,
            "justify_content": null,
            "justify_items": null,
            "left": null,
            "margin": null,
            "max_height": null,
            "max_width": null,
            "min_height": null,
            "min_width": null,
            "object_fit": null,
            "object_position": null,
            "order": null,
            "overflow": null,
            "overflow_x": null,
            "overflow_y": null,
            "padding": null,
            "right": null,
            "top": null,
            "visibility": null,
            "width": null
          }
        },
        "e63ce67338134592a489d815715cf06e": {
          "model_module": "@jupyter-widgets/controls",
          "model_name": "SliderStyleModel",
          "model_module_version": "1.5.0",
          "state": {
            "_model_module": "@jupyter-widgets/controls",
            "_model_module_version": "1.5.0",
            "_model_name": "SliderStyleModel",
            "_view_count": null,
            "_view_module": "@jupyter-widgets/base",
            "_view_module_version": "1.2.0",
            "_view_name": "StyleView",
            "description_width": "",
            "handle_color": null
          }
        },
        "56505457af1a4855862f54a48c400b50": {
          "model_module": "@jupyter-widgets/controls",
          "model_name": "IntSliderModel",
          "model_module_version": "1.5.0",
          "state": {
            "_dom_classes": [],
            "_model_module": "@jupyter-widgets/controls",
            "_model_module_version": "1.5.0",
            "_model_name": "IntSliderModel",
            "_view_count": null,
            "_view_module": "@jupyter-widgets/controls",
            "_view_module_version": "1.5.0",
            "_view_name": "IntSliderView",
            "continuous_update": true,
            "description": "Ano:",
            "description_tooltip": null,
            "disabled": false,
            "layout": "IPY_MODEL_ef739586074c4be69deff3c2bb310532",
            "max": 2024,
            "min": 1990,
            "orientation": "horizontal",
            "readout": true,
            "readout_format": "d",
            "step": 1,
            "style": "IPY_MODEL_a27c8bcf7be043d38974febe2995cb1a",
            "value": 2021
          }
        },
        "ef739586074c4be69deff3c2bb310532": {
          "model_module": "@jupyter-widgets/base",
          "model_name": "LayoutModel",
          "model_module_version": "1.2.0",
          "state": {
            "_model_module": "@jupyter-widgets/base",
            "_model_module_version": "1.2.0",
            "_model_name": "LayoutModel",
            "_view_count": null,
            "_view_module": "@jupyter-widgets/base",
            "_view_module_version": "1.2.0",
            "_view_name": "LayoutView",
            "align_content": null,
            "align_items": null,
            "align_self": null,
            "border": null,
            "bottom": null,
            "display": null,
            "flex": null,
            "flex_flow": null,
            "grid_area": null,
            "grid_auto_columns": null,
            "grid_auto_flow": null,
            "grid_auto_rows": null,
            "grid_column": null,
            "grid_gap": null,
            "grid_row": null,
            "grid_template_areas": null,
            "grid_template_columns": null,
            "grid_template_rows": null,
            "height": null,
            "justify_content": null,
            "justify_items": null,
            "left": null,
            "margin": null,
            "max_height": null,
            "max_width": null,
            "min_height": null,
            "min_width": null,
            "object_fit": null,
            "object_position": null,
            "order": null,
            "overflow": null,
            "overflow_x": null,
            "overflow_y": null,
            "padding": null,
            "right": null,
            "top": null,
            "visibility": null,
            "width": null
          }
        },
        "a27c8bcf7be043d38974febe2995cb1a": {
          "model_module": "@jupyter-widgets/controls",
          "model_name": "SliderStyleModel",
          "model_module_version": "1.5.0",
          "state": {
            "_model_module": "@jupyter-widgets/controls",
            "_model_module_version": "1.5.0",
            "_model_name": "SliderStyleModel",
            "_view_count": null,
            "_view_module": "@jupyter-widgets/base",
            "_view_module_version": "1.2.0",
            "_view_name": "StyleView",
            "description_width": "",
            "handle_color": null
          }
        },
        "59c183df8d414a708d9a95b86c2b729f": {
          "model_module": "@jupyter-widgets/controls",
          "model_name": "DropdownModel",
          "model_module_version": "1.5.0",
          "state": {
            "_dom_classes": [],
            "_model_module": "@jupyter-widgets/controls",
            "_model_module_version": "1.5.0",
            "_model_name": "DropdownModel",
            "_options_labels": [
              "1",
              "2"
            ],
            "_view_count": null,
            "_view_module": "@jupyter-widgets/controls",
            "_view_module_version": "1.5.0",
            "_view_name": "DropdownView",
            "description": "Combustível:",
            "description_tooltip": null,
            "disabled": false,
            "index": 1,
            "layout": "IPY_MODEL_8850e0eb8a0045bfab643f75d6ab34e8",
            "style": "IPY_MODEL_c51097a0a3a54b77bd614b0417829caa"
          }
        },
        "8850e0eb8a0045bfab643f75d6ab34e8": {
          "model_module": "@jupyter-widgets/base",
          "model_name": "LayoutModel",
          "model_module_version": "1.2.0",
          "state": {
            "_model_module": "@jupyter-widgets/base",
            "_model_module_version": "1.2.0",
            "_model_name": "LayoutModel",
            "_view_count": null,
            "_view_module": "@jupyter-widgets/base",
            "_view_module_version": "1.2.0",
            "_view_name": "LayoutView",
            "align_content": null,
            "align_items": null,
            "align_self": null,
            "border": null,
            "bottom": null,
            "display": null,
            "flex": null,
            "flex_flow": null,
            "grid_area": null,
            "grid_auto_columns": null,
            "grid_auto_flow": null,
            "grid_auto_rows": null,
            "grid_column": null,
            "grid_gap": null,
            "grid_row": null,
            "grid_template_areas": null,
            "grid_template_columns": null,
            "grid_template_rows": null,
            "height": null,
            "justify_content": null,
            "justify_items": null,
            "left": null,
            "margin": null,
            "max_height": null,
            "max_width": null,
            "min_height": null,
            "min_width": null,
            "object_fit": null,
            "object_position": null,
            "order": null,
            "overflow": null,
            "overflow_x": null,
            "overflow_y": null,
            "padding": null,
            "right": null,
            "top": null,
            "visibility": null,
            "width": null
          }
        },
        "c51097a0a3a54b77bd614b0417829caa": {
          "model_module": "@jupyter-widgets/controls",
          "model_name": "DescriptionStyleModel",
          "model_module_version": "1.5.0",
          "state": {
            "_model_module": "@jupyter-widgets/controls",
            "_model_module_version": "1.5.0",
            "_model_name": "DescriptionStyleModel",
            "_view_count": null,
            "_view_module": "@jupyter-widgets/base",
            "_view_module_version": "1.2.0",
            "_view_name": "StyleView",
            "description_width": ""
          }
        },
        "f6db607b4fdb4e83a8e1358e79be3a0b": {
          "model_module": "@jupyter-widgets/controls",
          "model_name": "FloatSliderModel",
          "model_module_version": "1.5.0",
          "state": {
            "_dom_classes": [],
            "_model_module": "@jupyter-widgets/controls",
            "_model_module_version": "1.5.0",
            "_model_name": "FloatSliderModel",
            "_view_count": null,
            "_view_module": "@jupyter-widgets/controls",
            "_view_module_version": "1.5.0",
            "_view_name": "FloatSliderView",
            "continuous_update": true,
            "description": "Km Rodados:",
            "description_tooltip": null,
            "disabled": false,
            "layout": "IPY_MODEL_f21e4268b43a40868cc4c91ab31441cc",
            "max": 300000,
            "min": 0,
            "orientation": "horizontal",
            "readout": true,
            "readout_format": ".2f",
            "step": 1000,
            "style": "IPY_MODEL_b9cf1492aa9b40e2a22ee65bc65140f1",
            "value": 26000
          }
        },
        "f21e4268b43a40868cc4c91ab31441cc": {
          "model_module": "@jupyter-widgets/base",
          "model_name": "LayoutModel",
          "model_module_version": "1.2.0",
          "state": {
            "_model_module": "@jupyter-widgets/base",
            "_model_module_version": "1.2.0",
            "_model_name": "LayoutModel",
            "_view_count": null,
            "_view_module": "@jupyter-widgets/base",
            "_view_module_version": "1.2.0",
            "_view_name": "LayoutView",
            "align_content": null,
            "align_items": null,
            "align_self": null,
            "border": null,
            "bottom": null,
            "display": null,
            "flex": null,
            "flex_flow": null,
            "grid_area": null,
            "grid_auto_columns": null,
            "grid_auto_flow": null,
            "grid_auto_rows": null,
            "grid_column": null,
            "grid_gap": null,
            "grid_row": null,
            "grid_template_areas": null,
            "grid_template_columns": null,
            "grid_template_rows": null,
            "height": null,
            "justify_content": null,
            "justify_items": null,
            "left": null,
            "margin": null,
            "max_height": null,
            "max_width": null,
            "min_height": null,
            "min_width": null,
            "object_fit": null,
            "object_position": null,
            "order": null,
            "overflow": null,
            "overflow_x": null,
            "overflow_y": null,
            "padding": null,
            "right": null,
            "top": null,
            "visibility": null,
            "width": null
          }
        },
        "b9cf1492aa9b40e2a22ee65bc65140f1": {
          "model_module": "@jupyter-widgets/controls",
          "model_name": "SliderStyleModel",
          "model_module_version": "1.5.0",
          "state": {
            "_model_module": "@jupyter-widgets/controls",
            "_model_module_version": "1.5.0",
            "_model_name": "SliderStyleModel",
            "_view_count": null,
            "_view_module": "@jupyter-widgets/base",
            "_view_module_version": "1.2.0",
            "_view_name": "StyleView",
            "description_width": "",
            "handle_color": null
          }
        },
        "1704d6b7033c4e70831f2be32ef50917": {
          "model_module": "@jupyter-widgets/controls",
          "model_name": "ButtonModel",
          "model_module_version": "1.5.0",
          "state": {
            "_dom_classes": [],
            "_model_module": "@jupyter-widgets/controls",
            "_model_module_version": "1.5.0",
            "_model_name": "ButtonModel",
            "_view_count": null,
            "_view_module": "@jupyter-widgets/controls",
            "_view_module_version": "1.5.0",
            "_view_name": "ButtonView",
            "button_style": "",
            "description": "Prever Consumo",
            "disabled": false,
            "icon": "",
            "layout": "IPY_MODEL_37d3d8899f27407191d5160acb987fb5",
            "style": "IPY_MODEL_04efff1dfb754b2ea2cc3e8728518db6",
            "tooltip": ""
          }
        },
        "37d3d8899f27407191d5160acb987fb5": {
          "model_module": "@jupyter-widgets/base",
          "model_name": "LayoutModel",
          "model_module_version": "1.2.0",
          "state": {
            "_model_module": "@jupyter-widgets/base",
            "_model_module_version": "1.2.0",
            "_model_name": "LayoutModel",
            "_view_count": null,
            "_view_module": "@jupyter-widgets/base",
            "_view_module_version": "1.2.0",
            "_view_name": "LayoutView",
            "align_content": null,
            "align_items": null,
            "align_self": null,
            "border": null,
            "bottom": null,
            "display": null,
            "flex": null,
            "flex_flow": null,
            "grid_area": null,
            "grid_auto_columns": null,
            "grid_auto_flow": null,
            "grid_auto_rows": null,
            "grid_column": null,
            "grid_gap": null,
            "grid_row": null,
            "grid_template_areas": null,
            "grid_template_columns": null,
            "grid_template_rows": null,
            "height": null,
            "justify_content": null,
            "justify_items": null,
            "left": null,
            "margin": null,
            "max_height": null,
            "max_width": null,
            "min_height": null,
            "min_width": null,
            "object_fit": null,
            "object_position": null,
            "order": null,
            "overflow": null,
            "overflow_x": null,
            "overflow_y": null,
            "padding": null,
            "right": null,
            "top": null,
            "visibility": null,
            "width": null
          }
        },
        "04efff1dfb754b2ea2cc3e8728518db6": {
          "model_module": "@jupyter-widgets/controls",
          "model_name": "ButtonStyleModel",
          "model_module_version": "1.5.0",
          "state": {
            "_model_module": "@jupyter-widgets/controls",
            "_model_module_version": "1.5.0",
            "_model_name": "ButtonStyleModel",
            "_view_count": null,
            "_view_module": "@jupyter-widgets/base",
            "_view_module_version": "1.2.0",
            "_view_name": "StyleView",
            "button_color": null,
            "font_weight": ""
          }
        }
      }
    }
  },
  "cells": [
    {
      "cell_type": "markdown",
      "metadata": {
        "id": "otEdveLq8Hn0"
      },
      "source": [
        "# Projeto de Ciência de Dados\n",
        "## João Victor Siqueira Tenório Silva"
      ]
    },
    {
      "cell_type": "markdown",
      "metadata": {
        "id": "z1PEQEdZ9zm4"
      },
      "source": [
        "## 1. Definição do Problema"
      ]
    },
    {
      "cell_type": "markdown",
      "metadata": {
        "id": "HDcdO4yx9db6"
      },
      "source": [
        "O dataset usado neste projeto será os dados de consumo e kilometragem rodadas, proveniente do TicketLpog da empresa ESSE engenharia. Seu objetivo é prever o consumo em km/l de um equipamento, com base em certas medidas como peso e ano de fabricação. Este dataset é um subconjunto do dataset original e aqui, foram considerados os automóveis médios e pesados, desconsiderando motocicletas e equipamentos periféricos como compressores e geradores. A variável peso desconsidera o peso das cargas de cada veículo, por falta de informações.\n",
        "\n",
        "\n",
        "\n",
        "**Informações sobre os atributos:**\n",
        "1. **Peso** - Peso do veículo (kg)\n",
        "2. **Ano** - Ano do modelo do automóvel\n",
        "3. **Combustível** - Tipo de combustível utilizado (Gasolina/Diesel)\n",
        "4. **Km** - Kilometragem rodada (Km)\n",
        "5. **Consumo** - Consumo médio do veículo (Km/l)\n"
      ]
    },
    {
      "cell_type": "markdown",
      "source": [
        "#1.1 Importando bibliotecas necessárias\n",
        "\n",
        "Aqui, importamos todas as bibliotecas necessárias para análise de dados, visualização e modelagem preditiva.\n"
      ],
      "metadata": {
        "id": "F7b612Mqr758"
      }
    },
    {
      "cell_type": "code",
      "metadata": {
        "id": "RCn8CH4M7wF-"
      },
      "source": [
        "# Imports necessários\n",
        "import pandas as pd\n",
        "import numpy as np\n",
        "import matplotlib.pyplot as plt\n",
        "import seaborn as sns\n",
        "import missingno as ms\n",
        "import seaborn as sns\n",
        "import joblib\n",
        "import ipywidgets as widgets\n",
        "from IPython.display import display\n",
        "\n",
        "from sklearn.model_selection import train_test_split, GridSearchCV\n",
        "from sklearn.preprocessing import StandardScaler, OneHotEncoder\n",
        "from sklearn.compose import ColumnTransformer\n",
        "from sklearn.pipeline import Pipeline\n",
        "from sklearn.linear_model import LinearRegression, Ridge, Lasso, ElasticNet\n",
        "from sklearn.ensemble import RandomForestRegressor, GradientBoostingRegressor\n",
        "from sklearn.svm import SVR\n",
        "from sklearn.neighbors import KNeighborsRegressor\n",
        "from sklearn.tree import DecisionTreeRegressor\n",
        "from sklearn.metrics import mean_squared_error, r2_score, mean_absolute_error\n"
      ],
      "execution_count": 28,
      "outputs": []
    },
    {
      "cell_type": "code",
      "metadata": {
        "id": "dJpWLh52-aPE"
      },
      "source": [
        "# configuração para não exibir os warnings\n",
        "import warnings\n",
        "warnings.filterwarnings(\"ignore\")"
      ],
      "execution_count": 29,
      "outputs": []
    },
    {
      "cell_type": "markdown",
      "metadata": {
        "id": "2PcB0Efd-MS4"
      },
      "source": [
        "## 2. Carga de Dados"
      ]
    },
    {
      "cell_type": "markdown",
      "metadata": {
        "id": "rmHBahfF-cJL"
      },
      "source": [
        "Iremos usar o pacote Pandas (Python Data Analysis Library) para carregar de um arquivo .csv sem cabeçalho disponível online.\n",
        "\n",
        "Com o dataset carregado, iremos explorá-lo um pouco."
      ]
    },
    {
      "cell_type": "code",
      "metadata": {
        "id": "29AFuCPtvG_i"
      },
      "source": [
        "# Carrega arquivo csv usando Pandas usando uma URL\n",
        "\n",
        "# Informa a URL de importação do dataset\n",
        "url = \"https://raw.githubusercontent.com/jvsiq9603/projeto_data_science/refs/heads/main/DADOS%20CONSUMO%20FINAL.csv%20(1)%20-%20DADOS%20CONSUMO%20FINAL%20-%20Updated_Dataset_without_dots_in_Km_Rodados.csv%20(1).csv.csv\"\n",
        "\n",
        "# Informa o cabeçalho das colunas\n",
        "colunas = ['Peso', 'Ano', 'Combustível','Km' ,'Consumo']\n",
        "\n",
        "# Lê o arquivo utilizando as colunas informadas\n",
        "dataset = pd.read_csv(url, names=colunas, skiprows=1, delimiter=',')"
      ],
      "execution_count": 30,
      "outputs": []
    },
    {
      "cell_type": "code",
      "metadata": {
        "id": "pxWtav9TyS1R",
        "colab": {
          "base_uri": "https://localhost:8080/",
          "height": 206
        },
        "outputId": "c5f08ffe-10bc-460b-a8bf-b0c01e22881f"
      },
      "source": [
        "dataset.head()"
      ],
      "execution_count": 31,
      "outputs": [
        {
          "output_type": "execute_result",
          "data": {
            "text/plain": [
              "   Peso   Ano  Combustível    Km  Consumo\n",
              "0  1131  2023            1  6189    12.43\n",
              "1  1028  2023            1  6131    13.75\n",
              "2  1028  2023            1  4863    13.67\n",
              "3  1058  2023            1  3445    10.91\n",
              "4   976  2023            1  3958    11.96"
            ],
            "text/html": [
              "\n",
              "  <div id=\"df-a09b80f8-98b5-4f9f-8135-7b161cbc8b6d\" class=\"colab-df-container\">\n",
              "    <div>\n",
              "<style scoped>\n",
              "    .dataframe tbody tr th:only-of-type {\n",
              "        vertical-align: middle;\n",
              "    }\n",
              "\n",
              "    .dataframe tbody tr th {\n",
              "        vertical-align: top;\n",
              "    }\n",
              "\n",
              "    .dataframe thead th {\n",
              "        text-align: right;\n",
              "    }\n",
              "</style>\n",
              "<table border=\"1\" class=\"dataframe\">\n",
              "  <thead>\n",
              "    <tr style=\"text-align: right;\">\n",
              "      <th></th>\n",
              "      <th>Peso</th>\n",
              "      <th>Ano</th>\n",
              "      <th>Combustível</th>\n",
              "      <th>Km</th>\n",
              "      <th>Consumo</th>\n",
              "    </tr>\n",
              "  </thead>\n",
              "  <tbody>\n",
              "    <tr>\n",
              "      <th>0</th>\n",
              "      <td>1131</td>\n",
              "      <td>2023</td>\n",
              "      <td>1</td>\n",
              "      <td>6189</td>\n",
              "      <td>12.43</td>\n",
              "    </tr>\n",
              "    <tr>\n",
              "      <th>1</th>\n",
              "      <td>1028</td>\n",
              "      <td>2023</td>\n",
              "      <td>1</td>\n",
              "      <td>6131</td>\n",
              "      <td>13.75</td>\n",
              "    </tr>\n",
              "    <tr>\n",
              "      <th>2</th>\n",
              "      <td>1028</td>\n",
              "      <td>2023</td>\n",
              "      <td>1</td>\n",
              "      <td>4863</td>\n",
              "      <td>13.67</td>\n",
              "    </tr>\n",
              "    <tr>\n",
              "      <th>3</th>\n",
              "      <td>1058</td>\n",
              "      <td>2023</td>\n",
              "      <td>1</td>\n",
              "      <td>3445</td>\n",
              "      <td>10.91</td>\n",
              "    </tr>\n",
              "    <tr>\n",
              "      <th>4</th>\n",
              "      <td>976</td>\n",
              "      <td>2023</td>\n",
              "      <td>1</td>\n",
              "      <td>3958</td>\n",
              "      <td>11.96</td>\n",
              "    </tr>\n",
              "  </tbody>\n",
              "</table>\n",
              "</div>\n",
              "    <div class=\"colab-df-buttons\">\n",
              "\n",
              "  <div class=\"colab-df-container\">\n",
              "    <button class=\"colab-df-convert\" onclick=\"convertToInteractive('df-a09b80f8-98b5-4f9f-8135-7b161cbc8b6d')\"\n",
              "            title=\"Convert this dataframe to an interactive table.\"\n",
              "            style=\"display:none;\">\n",
              "\n",
              "  <svg xmlns=\"http://www.w3.org/2000/svg\" height=\"24px\" viewBox=\"0 -960 960 960\">\n",
              "    <path d=\"M120-120v-720h720v720H120Zm60-500h600v-160H180v160Zm220 220h160v-160H400v160Zm0 220h160v-160H400v160ZM180-400h160v-160H180v160Zm440 0h160v-160H620v160ZM180-180h160v-160H180v160Zm440 0h160v-160H620v160Z\"/>\n",
              "  </svg>\n",
              "    </button>\n",
              "\n",
              "  <style>\n",
              "    .colab-df-container {\n",
              "      display:flex;\n",
              "      gap: 12px;\n",
              "    }\n",
              "\n",
              "    .colab-df-convert {\n",
              "      background-color: #E8F0FE;\n",
              "      border: none;\n",
              "      border-radius: 50%;\n",
              "      cursor: pointer;\n",
              "      display: none;\n",
              "      fill: #1967D2;\n",
              "      height: 32px;\n",
              "      padding: 0 0 0 0;\n",
              "      width: 32px;\n",
              "    }\n",
              "\n",
              "    .colab-df-convert:hover {\n",
              "      background-color: #E2EBFA;\n",
              "      box-shadow: 0px 1px 2px rgba(60, 64, 67, 0.3), 0px 1px 3px 1px rgba(60, 64, 67, 0.15);\n",
              "      fill: #174EA6;\n",
              "    }\n",
              "\n",
              "    .colab-df-buttons div {\n",
              "      margin-bottom: 4px;\n",
              "    }\n",
              "\n",
              "    [theme=dark] .colab-df-convert {\n",
              "      background-color: #3B4455;\n",
              "      fill: #D2E3FC;\n",
              "    }\n",
              "\n",
              "    [theme=dark] .colab-df-convert:hover {\n",
              "      background-color: #434B5C;\n",
              "      box-shadow: 0px 1px 3px 1px rgba(0, 0, 0, 0.15);\n",
              "      filter: drop-shadow(0px 1px 2px rgba(0, 0, 0, 0.3));\n",
              "      fill: #FFFFFF;\n",
              "    }\n",
              "  </style>\n",
              "\n",
              "    <script>\n",
              "      const buttonEl =\n",
              "        document.querySelector('#df-a09b80f8-98b5-4f9f-8135-7b161cbc8b6d button.colab-df-convert');\n",
              "      buttonEl.style.display =\n",
              "        google.colab.kernel.accessAllowed ? 'block' : 'none';\n",
              "\n",
              "      async function convertToInteractive(key) {\n",
              "        const element = document.querySelector('#df-a09b80f8-98b5-4f9f-8135-7b161cbc8b6d');\n",
              "        const dataTable =\n",
              "          await google.colab.kernel.invokeFunction('convertToInteractive',\n",
              "                                                    [key], {});\n",
              "        if (!dataTable) return;\n",
              "\n",
              "        const docLinkHtml = 'Like what you see? Visit the ' +\n",
              "          '<a target=\"_blank\" href=https://colab.research.google.com/notebooks/data_table.ipynb>data table notebook</a>'\n",
              "          + ' to learn more about interactive tables.';\n",
              "        element.innerHTML = '';\n",
              "        dataTable['output_type'] = 'display_data';\n",
              "        await google.colab.output.renderOutput(dataTable, element);\n",
              "        const docLink = document.createElement('div');\n",
              "        docLink.innerHTML = docLinkHtml;\n",
              "        element.appendChild(docLink);\n",
              "      }\n",
              "    </script>\n",
              "  </div>\n",
              "\n",
              "\n",
              "<div id=\"df-c6ee4857-26a2-4361-aadd-f56d365585b5\">\n",
              "  <button class=\"colab-df-quickchart\" onclick=\"quickchart('df-c6ee4857-26a2-4361-aadd-f56d365585b5')\"\n",
              "            title=\"Suggest charts\"\n",
              "            style=\"display:none;\">\n",
              "\n",
              "<svg xmlns=\"http://www.w3.org/2000/svg\" height=\"24px\"viewBox=\"0 0 24 24\"\n",
              "     width=\"24px\">\n",
              "    <g>\n",
              "        <path d=\"M19 3H5c-1.1 0-2 .9-2 2v14c0 1.1.9 2 2 2h14c1.1 0 2-.9 2-2V5c0-1.1-.9-2-2-2zM9 17H7v-7h2v7zm4 0h-2V7h2v10zm4 0h-2v-4h2v4z\"/>\n",
              "    </g>\n",
              "</svg>\n",
              "  </button>\n",
              "\n",
              "<style>\n",
              "  .colab-df-quickchart {\n",
              "      --bg-color: #E8F0FE;\n",
              "      --fill-color: #1967D2;\n",
              "      --hover-bg-color: #E2EBFA;\n",
              "      --hover-fill-color: #174EA6;\n",
              "      --disabled-fill-color: #AAA;\n",
              "      --disabled-bg-color: #DDD;\n",
              "  }\n",
              "\n",
              "  [theme=dark] .colab-df-quickchart {\n",
              "      --bg-color: #3B4455;\n",
              "      --fill-color: #D2E3FC;\n",
              "      --hover-bg-color: #434B5C;\n",
              "      --hover-fill-color: #FFFFFF;\n",
              "      --disabled-bg-color: #3B4455;\n",
              "      --disabled-fill-color: #666;\n",
              "  }\n",
              "\n",
              "  .colab-df-quickchart {\n",
              "    background-color: var(--bg-color);\n",
              "    border: none;\n",
              "    border-radius: 50%;\n",
              "    cursor: pointer;\n",
              "    display: none;\n",
              "    fill: var(--fill-color);\n",
              "    height: 32px;\n",
              "    padding: 0;\n",
              "    width: 32px;\n",
              "  }\n",
              "\n",
              "  .colab-df-quickchart:hover {\n",
              "    background-color: var(--hover-bg-color);\n",
              "    box-shadow: 0 1px 2px rgba(60, 64, 67, 0.3), 0 1px 3px 1px rgba(60, 64, 67, 0.15);\n",
              "    fill: var(--button-hover-fill-color);\n",
              "  }\n",
              "\n",
              "  .colab-df-quickchart-complete:disabled,\n",
              "  .colab-df-quickchart-complete:disabled:hover {\n",
              "    background-color: var(--disabled-bg-color);\n",
              "    fill: var(--disabled-fill-color);\n",
              "    box-shadow: none;\n",
              "  }\n",
              "\n",
              "  .colab-df-spinner {\n",
              "    border: 2px solid var(--fill-color);\n",
              "    border-color: transparent;\n",
              "    border-bottom-color: var(--fill-color);\n",
              "    animation:\n",
              "      spin 1s steps(1) infinite;\n",
              "  }\n",
              "\n",
              "  @keyframes spin {\n",
              "    0% {\n",
              "      border-color: transparent;\n",
              "      border-bottom-color: var(--fill-color);\n",
              "      border-left-color: var(--fill-color);\n",
              "    }\n",
              "    20% {\n",
              "      border-color: transparent;\n",
              "      border-left-color: var(--fill-color);\n",
              "      border-top-color: var(--fill-color);\n",
              "    }\n",
              "    30% {\n",
              "      border-color: transparent;\n",
              "      border-left-color: var(--fill-color);\n",
              "      border-top-color: var(--fill-color);\n",
              "      border-right-color: var(--fill-color);\n",
              "    }\n",
              "    40% {\n",
              "      border-color: transparent;\n",
              "      border-right-color: var(--fill-color);\n",
              "      border-top-color: var(--fill-color);\n",
              "    }\n",
              "    60% {\n",
              "      border-color: transparent;\n",
              "      border-right-color: var(--fill-color);\n",
              "    }\n",
              "    80% {\n",
              "      border-color: transparent;\n",
              "      border-right-color: var(--fill-color);\n",
              "      border-bottom-color: var(--fill-color);\n",
              "    }\n",
              "    90% {\n",
              "      border-color: transparent;\n",
              "      border-bottom-color: var(--fill-color);\n",
              "    }\n",
              "  }\n",
              "</style>\n",
              "\n",
              "  <script>\n",
              "    async function quickchart(key) {\n",
              "      const quickchartButtonEl =\n",
              "        document.querySelector('#' + key + ' button');\n",
              "      quickchartButtonEl.disabled = true;  // To prevent multiple clicks.\n",
              "      quickchartButtonEl.classList.add('colab-df-spinner');\n",
              "      try {\n",
              "        const charts = await google.colab.kernel.invokeFunction(\n",
              "            'suggestCharts', [key], {});\n",
              "      } catch (error) {\n",
              "        console.error('Error during call to suggestCharts:', error);\n",
              "      }\n",
              "      quickchartButtonEl.classList.remove('colab-df-spinner');\n",
              "      quickchartButtonEl.classList.add('colab-df-quickchart-complete');\n",
              "    }\n",
              "    (() => {\n",
              "      let quickchartButtonEl =\n",
              "        document.querySelector('#df-c6ee4857-26a2-4361-aadd-f56d365585b5 button');\n",
              "      quickchartButtonEl.style.display =\n",
              "        google.colab.kernel.accessAllowed ? 'block' : 'none';\n",
              "    })();\n",
              "  </script>\n",
              "</div>\n",
              "\n",
              "    </div>\n",
              "  </div>\n"
            ],
            "application/vnd.google.colaboratory.intrinsic+json": {
              "type": "dataframe",
              "variable_name": "dataset",
              "summary": "{\n  \"name\": \"dataset\",\n  \"rows\": 306,\n  \"fields\": [\n    {\n      \"column\": \"Peso\",\n      \"properties\": {\n        \"dtype\": \"number\",\n        \"std\": 8232,\n        \"min\": 961,\n        \"max\": 29000,\n        \"num_unique_values\": 19,\n        \"samples\": [\n          1131,\n          1251,\n          8000\n        ],\n        \"semantic_type\": \"\",\n        \"description\": \"\"\n      }\n    },\n    {\n      \"column\": \"Ano\",\n      \"properties\": {\n        \"dtype\": \"number\",\n        \"std\": 6,\n        \"min\": 2000,\n        \"max\": 2025,\n        \"num_unique_values\": 19,\n        \"samples\": [\n          2023,\n          2020,\n          2009\n        ],\n        \"semantic_type\": \"\",\n        \"description\": \"\"\n      }\n    },\n    {\n      \"column\": \"Combust\\u00edvel\",\n      \"properties\": {\n        \"dtype\": \"number\",\n        \"std\": 0,\n        \"min\": 1,\n        \"max\": 2,\n        \"num_unique_values\": 2,\n        \"samples\": [\n          2,\n          1\n        ],\n        \"semantic_type\": \"\",\n        \"description\": \"\"\n      }\n    },\n    {\n      \"column\": \"Km\",\n      \"properties\": {\n        \"dtype\": \"number\",\n        \"std\": 1934,\n        \"min\": 316,\n        \"max\": 24640,\n        \"num_unique_values\": 247,\n        \"samples\": [\n          4674,\n          3614\n        ],\n        \"semantic_type\": \"\",\n        \"description\": \"\"\n      }\n    },\n    {\n      \"column\": \"Consumo\",\n      \"properties\": {\n        \"dtype\": \"number\",\n        \"std\": 5.082171471417315,\n        \"min\": 0.48,\n        \"max\": 61.36,\n        \"num_unique_values\": 230,\n        \"samples\": [\n          12.23,\n          13.53\n        ],\n        \"semantic_type\": \"\",\n        \"description\": \"\"\n      }\n    }\n  ]\n}"
            }
          },
          "metadata": {},
          "execution_count": 31
        }
      ]
    },
    {
      "cell_type": "markdown",
      "metadata": {
        "id": "KBSgQt_z_TnV"
      },
      "source": [
        "## 3. Análise Exploratória dos Dados"
      ]
    },
    {
      "cell_type": "markdown",
      "source": [
        "Nesta etapa, examinamos as dimensões do dataset e algumas informações básicas sobre os dados."
      ],
      "metadata": {
        "id": "_sB0BrMRHsrO"
      }
    },
    {
      "cell_type": "code",
      "source": [
        "\n",
        "# Verificando o tamanho e as informações do dataset\n",
        "print(dataset.shape)\n",
        "print(dataset.info())\n",
        "\n",
        "# Verificar se há valores ausentes\n",
        "print(dataset.isnull().sum())\n"
      ],
      "metadata": {
        "colab": {
          "base_uri": "https://localhost:8080/"
        },
        "id": "PGG6xIaxHa-5",
        "outputId": "554ceddb-c9d4-4b1a-ba99-f790ec5249b2"
      },
      "execution_count": 32,
      "outputs": [
        {
          "output_type": "stream",
          "name": "stdout",
          "text": [
            "(306, 5)\n",
            "<class 'pandas.core.frame.DataFrame'>\n",
            "RangeIndex: 306 entries, 0 to 305\n",
            "Data columns (total 5 columns):\n",
            " #   Column       Non-Null Count  Dtype  \n",
            "---  ------       --------------  -----  \n",
            " 0   Peso         306 non-null    int64  \n",
            " 1   Ano          306 non-null    int64  \n",
            " 2   Combustível  306 non-null    int64  \n",
            " 3   Km           306 non-null    int64  \n",
            " 4   Consumo      306 non-null    float64\n",
            "dtypes: float64(1), int64(4)\n",
            "memory usage: 12.1 KB\n",
            "None\n",
            "Peso           0\n",
            "Ano            0\n",
            "Combustível    0\n",
            "Km             0\n",
            "Consumo        0\n",
            "dtype: int64\n"
          ]
        }
      ]
    },
    {
      "cell_type": "markdown",
      "metadata": {
        "id": "bqINv-wo_Xfe"
      },
      "source": [
        "### 3.1 Visualização dos Dados\n",
        "Realizamos algumas visualizações para entender melhor a distribuição dos dados e possíveis relações entre as variáveis."
      ]
    },
    {
      "cell_type": "markdown",
      "metadata": {
        "id": "zY7gaBfqwdy5"
      },
      "source": [
        "É sempre importante verificar o tipo do atributos do dataset, pois pode ser necessário realizar conversões. Já fizemos anteriormente com o comando info, mas vamos ver uma outra forma de verificar a natureza de cada atributo e então exibir um resumo estatístico do dataset."
      ]
    },
    {
      "cell_type": "code",
      "metadata": {
        "id": "0dRVheWE_mJQ",
        "colab": {
          "base_uri": "https://localhost:8080/",
          "height": 241
        },
        "outputId": "2c35f90f-bc31-4d3a-db81-d52c015a886d"
      },
      "source": [
        "# Verifica o tipo de dataset de cada atributo\n",
        "dataset.dtypes"
      ],
      "execution_count": 33,
      "outputs": [
        {
          "output_type": "execute_result",
          "data": {
            "text/plain": [
              "Peso             int64\n",
              "Ano              int64\n",
              "Combustível      int64\n",
              "Km               int64\n",
              "Consumo        float64\n",
              "dtype: object"
            ],
            "text/html": [
              "<div>\n",
              "<style scoped>\n",
              "    .dataframe tbody tr th:only-of-type {\n",
              "        vertical-align: middle;\n",
              "    }\n",
              "\n",
              "    .dataframe tbody tr th {\n",
              "        vertical-align: top;\n",
              "    }\n",
              "\n",
              "    .dataframe thead th {\n",
              "        text-align: right;\n",
              "    }\n",
              "</style>\n",
              "<table border=\"1\" class=\"dataframe\">\n",
              "  <thead>\n",
              "    <tr style=\"text-align: right;\">\n",
              "      <th></th>\n",
              "      <th>0</th>\n",
              "    </tr>\n",
              "  </thead>\n",
              "  <tbody>\n",
              "    <tr>\n",
              "      <th>Peso</th>\n",
              "      <td>int64</td>\n",
              "    </tr>\n",
              "    <tr>\n",
              "      <th>Ano</th>\n",
              "      <td>int64</td>\n",
              "    </tr>\n",
              "    <tr>\n",
              "      <th>Combustível</th>\n",
              "      <td>int64</td>\n",
              "    </tr>\n",
              "    <tr>\n",
              "      <th>Km</th>\n",
              "      <td>int64</td>\n",
              "    </tr>\n",
              "    <tr>\n",
              "      <th>Consumo</th>\n",
              "      <td>float64</td>\n",
              "    </tr>\n",
              "  </tbody>\n",
              "</table>\n",
              "</div><br><label><b>dtype:</b> object</label>"
            ]
          },
          "metadata": {},
          "execution_count": 33
        }
      ]
    },
    {
      "cell_type": "code",
      "metadata": {
        "id": "7NKdYewownzG",
        "colab": {
          "base_uri": "https://localhost:8080/",
          "height": 300
        },
        "outputId": "d7e39fee-a3eb-41ec-d5e8-abeb652e1eb7"
      },
      "source": [
        "# Faz um resumo estatístico do dataset (média, desvio padrão, mínimo, máximo e os quartis)\n",
        "dataset.describe()"
      ],
      "execution_count": 34,
      "outputs": [
        {
          "output_type": "execute_result",
          "data": {
            "text/plain": [
              "               Peso          Ano  Combustível            Km     Consumo\n",
              "count    306.000000   306.000000   306.000000    306.000000  306.000000\n",
              "mean    8092.303922  2017.970588     1.598039   3436.029412    7.387974\n",
              "std     8232.818466     6.543357     0.491097   1934.749165    5.082171\n",
              "min      961.000000  2000.000000     1.000000    316.000000    0.480000\n",
              "25%     1058.000000  2011.250000     1.000000   2362.250000    4.312500\n",
              "50%     8000.000000  2021.000000     2.000000   3169.000000    5.510000\n",
              "75%    10800.000000  2023.000000     2.000000   4316.000000   10.936250\n",
              "max    29000.000000  2025.000000     2.000000  24640.000000   61.360000"
            ],
            "text/html": [
              "\n",
              "  <div id=\"df-f5f61fa4-9e0c-4c5c-ac11-6c65646eaf3d\" class=\"colab-df-container\">\n",
              "    <div>\n",
              "<style scoped>\n",
              "    .dataframe tbody tr th:only-of-type {\n",
              "        vertical-align: middle;\n",
              "    }\n",
              "\n",
              "    .dataframe tbody tr th {\n",
              "        vertical-align: top;\n",
              "    }\n",
              "\n",
              "    .dataframe thead th {\n",
              "        text-align: right;\n",
              "    }\n",
              "</style>\n",
              "<table border=\"1\" class=\"dataframe\">\n",
              "  <thead>\n",
              "    <tr style=\"text-align: right;\">\n",
              "      <th></th>\n",
              "      <th>Peso</th>\n",
              "      <th>Ano</th>\n",
              "      <th>Combustível</th>\n",
              "      <th>Km</th>\n",
              "      <th>Consumo</th>\n",
              "    </tr>\n",
              "  </thead>\n",
              "  <tbody>\n",
              "    <tr>\n",
              "      <th>count</th>\n",
              "      <td>306.000000</td>\n",
              "      <td>306.000000</td>\n",
              "      <td>306.000000</td>\n",
              "      <td>306.000000</td>\n",
              "      <td>306.000000</td>\n",
              "    </tr>\n",
              "    <tr>\n",
              "      <th>mean</th>\n",
              "      <td>8092.303922</td>\n",
              "      <td>2017.970588</td>\n",
              "      <td>1.598039</td>\n",
              "      <td>3436.029412</td>\n",
              "      <td>7.387974</td>\n",
              "    </tr>\n",
              "    <tr>\n",
              "      <th>std</th>\n",
              "      <td>8232.818466</td>\n",
              "      <td>6.543357</td>\n",
              "      <td>0.491097</td>\n",
              "      <td>1934.749165</td>\n",
              "      <td>5.082171</td>\n",
              "    </tr>\n",
              "    <tr>\n",
              "      <th>min</th>\n",
              "      <td>961.000000</td>\n",
              "      <td>2000.000000</td>\n",
              "      <td>1.000000</td>\n",
              "      <td>316.000000</td>\n",
              "      <td>0.480000</td>\n",
              "    </tr>\n",
              "    <tr>\n",
              "      <th>25%</th>\n",
              "      <td>1058.000000</td>\n",
              "      <td>2011.250000</td>\n",
              "      <td>1.000000</td>\n",
              "      <td>2362.250000</td>\n",
              "      <td>4.312500</td>\n",
              "    </tr>\n",
              "    <tr>\n",
              "      <th>50%</th>\n",
              "      <td>8000.000000</td>\n",
              "      <td>2021.000000</td>\n",
              "      <td>2.000000</td>\n",
              "      <td>3169.000000</td>\n",
              "      <td>5.510000</td>\n",
              "    </tr>\n",
              "    <tr>\n",
              "      <th>75%</th>\n",
              "      <td>10800.000000</td>\n",
              "      <td>2023.000000</td>\n",
              "      <td>2.000000</td>\n",
              "      <td>4316.000000</td>\n",
              "      <td>10.936250</td>\n",
              "    </tr>\n",
              "    <tr>\n",
              "      <th>max</th>\n",
              "      <td>29000.000000</td>\n",
              "      <td>2025.000000</td>\n",
              "      <td>2.000000</td>\n",
              "      <td>24640.000000</td>\n",
              "      <td>61.360000</td>\n",
              "    </tr>\n",
              "  </tbody>\n",
              "</table>\n",
              "</div>\n",
              "    <div class=\"colab-df-buttons\">\n",
              "\n",
              "  <div class=\"colab-df-container\">\n",
              "    <button class=\"colab-df-convert\" onclick=\"convertToInteractive('df-f5f61fa4-9e0c-4c5c-ac11-6c65646eaf3d')\"\n",
              "            title=\"Convert this dataframe to an interactive table.\"\n",
              "            style=\"display:none;\">\n",
              "\n",
              "  <svg xmlns=\"http://www.w3.org/2000/svg\" height=\"24px\" viewBox=\"0 -960 960 960\">\n",
              "    <path d=\"M120-120v-720h720v720H120Zm60-500h600v-160H180v160Zm220 220h160v-160H400v160Zm0 220h160v-160H400v160ZM180-400h160v-160H180v160Zm440 0h160v-160H620v160ZM180-180h160v-160H180v160Zm440 0h160v-160H620v160Z\"/>\n",
              "  </svg>\n",
              "    </button>\n",
              "\n",
              "  <style>\n",
              "    .colab-df-container {\n",
              "      display:flex;\n",
              "      gap: 12px;\n",
              "    }\n",
              "\n",
              "    .colab-df-convert {\n",
              "      background-color: #E8F0FE;\n",
              "      border: none;\n",
              "      border-radius: 50%;\n",
              "      cursor: pointer;\n",
              "      display: none;\n",
              "      fill: #1967D2;\n",
              "      height: 32px;\n",
              "      padding: 0 0 0 0;\n",
              "      width: 32px;\n",
              "    }\n",
              "\n",
              "    .colab-df-convert:hover {\n",
              "      background-color: #E2EBFA;\n",
              "      box-shadow: 0px 1px 2px rgba(60, 64, 67, 0.3), 0px 1px 3px 1px rgba(60, 64, 67, 0.15);\n",
              "      fill: #174EA6;\n",
              "    }\n",
              "\n",
              "    .colab-df-buttons div {\n",
              "      margin-bottom: 4px;\n",
              "    }\n",
              "\n",
              "    [theme=dark] .colab-df-convert {\n",
              "      background-color: #3B4455;\n",
              "      fill: #D2E3FC;\n",
              "    }\n",
              "\n",
              "    [theme=dark] .colab-df-convert:hover {\n",
              "      background-color: #434B5C;\n",
              "      box-shadow: 0px 1px 3px 1px rgba(0, 0, 0, 0.15);\n",
              "      filter: drop-shadow(0px 1px 2px rgba(0, 0, 0, 0.3));\n",
              "      fill: #FFFFFF;\n",
              "    }\n",
              "  </style>\n",
              "\n",
              "    <script>\n",
              "      const buttonEl =\n",
              "        document.querySelector('#df-f5f61fa4-9e0c-4c5c-ac11-6c65646eaf3d button.colab-df-convert');\n",
              "      buttonEl.style.display =\n",
              "        google.colab.kernel.accessAllowed ? 'block' : 'none';\n",
              "\n",
              "      async function convertToInteractive(key) {\n",
              "        const element = document.querySelector('#df-f5f61fa4-9e0c-4c5c-ac11-6c65646eaf3d');\n",
              "        const dataTable =\n",
              "          await google.colab.kernel.invokeFunction('convertToInteractive',\n",
              "                                                    [key], {});\n",
              "        if (!dataTable) return;\n",
              "\n",
              "        const docLinkHtml = 'Like what you see? Visit the ' +\n",
              "          '<a target=\"_blank\" href=https://colab.research.google.com/notebooks/data_table.ipynb>data table notebook</a>'\n",
              "          + ' to learn more about interactive tables.';\n",
              "        element.innerHTML = '';\n",
              "        dataTable['output_type'] = 'display_data';\n",
              "        await google.colab.output.renderOutput(dataTable, element);\n",
              "        const docLink = document.createElement('div');\n",
              "        docLink.innerHTML = docLinkHtml;\n",
              "        element.appendChild(docLink);\n",
              "      }\n",
              "    </script>\n",
              "  </div>\n",
              "\n",
              "\n",
              "<div id=\"df-7f411034-0346-46c6-8bdb-bfaa7361272b\">\n",
              "  <button class=\"colab-df-quickchart\" onclick=\"quickchart('df-7f411034-0346-46c6-8bdb-bfaa7361272b')\"\n",
              "            title=\"Suggest charts\"\n",
              "            style=\"display:none;\">\n",
              "\n",
              "<svg xmlns=\"http://www.w3.org/2000/svg\" height=\"24px\"viewBox=\"0 0 24 24\"\n",
              "     width=\"24px\">\n",
              "    <g>\n",
              "        <path d=\"M19 3H5c-1.1 0-2 .9-2 2v14c0 1.1.9 2 2 2h14c1.1 0 2-.9 2-2V5c0-1.1-.9-2-2-2zM9 17H7v-7h2v7zm4 0h-2V7h2v10zm4 0h-2v-4h2v4z\"/>\n",
              "    </g>\n",
              "</svg>\n",
              "  </button>\n",
              "\n",
              "<style>\n",
              "  .colab-df-quickchart {\n",
              "      --bg-color: #E8F0FE;\n",
              "      --fill-color: #1967D2;\n",
              "      --hover-bg-color: #E2EBFA;\n",
              "      --hover-fill-color: #174EA6;\n",
              "      --disabled-fill-color: #AAA;\n",
              "      --disabled-bg-color: #DDD;\n",
              "  }\n",
              "\n",
              "  [theme=dark] .colab-df-quickchart {\n",
              "      --bg-color: #3B4455;\n",
              "      --fill-color: #D2E3FC;\n",
              "      --hover-bg-color: #434B5C;\n",
              "      --hover-fill-color: #FFFFFF;\n",
              "      --disabled-bg-color: #3B4455;\n",
              "      --disabled-fill-color: #666;\n",
              "  }\n",
              "\n",
              "  .colab-df-quickchart {\n",
              "    background-color: var(--bg-color);\n",
              "    border: none;\n",
              "    border-radius: 50%;\n",
              "    cursor: pointer;\n",
              "    display: none;\n",
              "    fill: var(--fill-color);\n",
              "    height: 32px;\n",
              "    padding: 0;\n",
              "    width: 32px;\n",
              "  }\n",
              "\n",
              "  .colab-df-quickchart:hover {\n",
              "    background-color: var(--hover-bg-color);\n",
              "    box-shadow: 0 1px 2px rgba(60, 64, 67, 0.3), 0 1px 3px 1px rgba(60, 64, 67, 0.15);\n",
              "    fill: var(--button-hover-fill-color);\n",
              "  }\n",
              "\n",
              "  .colab-df-quickchart-complete:disabled,\n",
              "  .colab-df-quickchart-complete:disabled:hover {\n",
              "    background-color: var(--disabled-bg-color);\n",
              "    fill: var(--disabled-fill-color);\n",
              "    box-shadow: none;\n",
              "  }\n",
              "\n",
              "  .colab-df-spinner {\n",
              "    border: 2px solid var(--fill-color);\n",
              "    border-color: transparent;\n",
              "    border-bottom-color: var(--fill-color);\n",
              "    animation:\n",
              "      spin 1s steps(1) infinite;\n",
              "  }\n",
              "\n",
              "  @keyframes spin {\n",
              "    0% {\n",
              "      border-color: transparent;\n",
              "      border-bottom-color: var(--fill-color);\n",
              "      border-left-color: var(--fill-color);\n",
              "    }\n",
              "    20% {\n",
              "      border-color: transparent;\n",
              "      border-left-color: var(--fill-color);\n",
              "      border-top-color: var(--fill-color);\n",
              "    }\n",
              "    30% {\n",
              "      border-color: transparent;\n",
              "      border-left-color: var(--fill-color);\n",
              "      border-top-color: var(--fill-color);\n",
              "      border-right-color: var(--fill-color);\n",
              "    }\n",
              "    40% {\n",
              "      border-color: transparent;\n",
              "      border-right-color: var(--fill-color);\n",
              "      border-top-color: var(--fill-color);\n",
              "    }\n",
              "    60% {\n",
              "      border-color: transparent;\n",
              "      border-right-color: var(--fill-color);\n",
              "    }\n",
              "    80% {\n",
              "      border-color: transparent;\n",
              "      border-right-color: var(--fill-color);\n",
              "      border-bottom-color: var(--fill-color);\n",
              "    }\n",
              "    90% {\n",
              "      border-color: transparent;\n",
              "      border-bottom-color: var(--fill-color);\n",
              "    }\n",
              "  }\n",
              "</style>\n",
              "\n",
              "  <script>\n",
              "    async function quickchart(key) {\n",
              "      const quickchartButtonEl =\n",
              "        document.querySelector('#' + key + ' button');\n",
              "      quickchartButtonEl.disabled = true;  // To prevent multiple clicks.\n",
              "      quickchartButtonEl.classList.add('colab-df-spinner');\n",
              "      try {\n",
              "        const charts = await google.colab.kernel.invokeFunction(\n",
              "            'suggestCharts', [key], {});\n",
              "      } catch (error) {\n",
              "        console.error('Error during call to suggestCharts:', error);\n",
              "      }\n",
              "      quickchartButtonEl.classList.remove('colab-df-spinner');\n",
              "      quickchartButtonEl.classList.add('colab-df-quickchart-complete');\n",
              "    }\n",
              "    (() => {\n",
              "      let quickchartButtonEl =\n",
              "        document.querySelector('#df-7f411034-0346-46c6-8bdb-bfaa7361272b button');\n",
              "      quickchartButtonEl.style.display =\n",
              "        google.colab.kernel.accessAllowed ? 'block' : 'none';\n",
              "    })();\n",
              "  </script>\n",
              "</div>\n",
              "\n",
              "    </div>\n",
              "  </div>\n"
            ],
            "application/vnd.google.colaboratory.intrinsic+json": {
              "type": "dataframe",
              "summary": "{\n  \"name\": \"dataset\",\n  \"rows\": 8,\n  \"fields\": [\n    {\n      \"column\": \"Peso\",\n      \"properties\": {\n        \"dtype\": \"number\",\n        \"std\": 9297.379492460825,\n        \"min\": 306.0,\n        \"max\": 29000.0,\n        \"num_unique_values\": 8,\n        \"samples\": [\n          8092.303921568628,\n          8000.0,\n          306.0\n        ],\n        \"semantic_type\": \"\",\n        \"description\": \"\"\n      }\n    },\n    {\n      \"column\": \"Ano\",\n      \"properties\": {\n        \"dtype\": \"number\",\n        \"std\": 864.8057551384396,\n        \"min\": 6.543357361055886,\n        \"max\": 2025.0,\n        \"num_unique_values\": 8,\n        \"samples\": [\n          2017.9705882352941,\n          2021.0,\n          306.0\n        ],\n        \"semantic_type\": \"\",\n        \"description\": \"\"\n      }\n    },\n    {\n      \"column\": \"Combust\\u00edvel\",\n      \"properties\": {\n        \"dtype\": \"number\",\n        \"std\": 107.6792539608387,\n        \"min\": 0.49109721093510056,\n        \"max\": 306.0,\n        \"num_unique_values\": 5,\n        \"samples\": [\n          1.5980392156862746,\n          2.0,\n          0.49109721093510056\n        ],\n        \"semantic_type\": \"\",\n        \"description\": \"\"\n      }\n    },\n    {\n      \"column\": \"Km\",\n      \"properties\": {\n        \"dtype\": \"number\",\n        \"std\": 8038.249607945389,\n        \"min\": 306.0,\n        \"max\": 24640.0,\n        \"num_unique_values\": 8,\n        \"samples\": [\n          3436.029411764706,\n          3169.0,\n          306.0\n        ],\n        \"semantic_type\": \"\",\n        \"description\": \"\"\n      }\n    },\n    {\n      \"column\": \"Consumo\",\n      \"properties\": {\n        \"dtype\": \"number\",\n        \"std\": 105.25019008802794,\n        \"min\": 0.48,\n        \"max\": 306.0,\n        \"num_unique_values\": 8,\n        \"samples\": [\n          7.387973856209151,\n          5.51,\n          306.0\n        ],\n        \"semantic_type\": \"\",\n        \"description\": \"\"\n      }\n    }\n  ]\n}"
            }
          },
          "metadata": {},
          "execution_count": 34
        }
      ]
    },
    {
      "cell_type": "markdown",
      "metadata": {
        "id": "R_5Ntt3f_tTv"
      },
      "source": [
        "### 3.2. Visualizações Unimodais\n",
        "\n",
        "Os histogramas são essenciais para entender a frequência e a distribuição de variáveis numéricas. Eles ajudam a identificar padrões de concentração, assimetrias e a presença de outliers. Ao observar as frequências, podemos entender melhor a estrutura dos dados, detectar anomalias e fazer inferências sobre a amostra em questão.\n"
      ]
    },
    {
      "cell_type": "code",
      "metadata": {
        "id": "dK3mK65T_tYx",
        "colab": {
          "base_uri": "https://localhost:8080/",
          "height": 853
        },
        "outputId": "92473633-a3bc-4df2-ad86-1b32250b67a5"
      },
      "source": [
        "# Histograma\n",
        "dataset.hist(figsize = (15,10))\n",
        "plt.show()"
      ],
      "execution_count": 35,
      "outputs": [
        {
          "output_type": "display_data",
          "data": {
            "text/plain": [
              "<Figure size 1500x1000 with 6 Axes>"
            ],
            "image/png": "[encoded data removed]"
          },
          "metadata": {}
        }
      ]
    },
    {
      "cell_type": "markdown",
      "source": [
        "Os histogramas revelam que a maioria dos veículos ou registros está concentrada em pesos abaixo de 5.000 kg e quilometragem até 5.000 km. A distribuição do ano mostra uma predominância de veículos recentes, especialmente entre 2020 e 2025. O combustível apresenta dois grupos principais, indicando dois tipos predominantes. O consumo de combustível está concentrado entre 0 e 20, com alguns outliers em torno de 60. Esses resultados mostram que os dados são majoritariamente compostos por veículos recentes, com baixo peso, baixa quilometragem e consumo moderado."
      ],
      "metadata": {
        "id": "njutP-2EDuAE"
      }
    },
    {
      "cell_type": "markdown",
      "metadata": {
        "id": "kObO1uuU_teC"
      },
      "source": [
        "Os gráficos de densidade (\"Density Plots\") apresentados mostram a distribuição de diferentes variáveis (Peso, Ano, Combustível, Km, e Consumo). Eles são úteis para identificar padrões nas distribuições dos dados, assim como valores atípicos (outliers) e assimetrias.\n",
        "\n",
        "Veremos que muitos dos atributos têm uma distribuição distorcida. Uma transformação como a Box-Cox, que pode aproximar a distribuição de uma Normal, pode ser útil neste caso."
      ]
    },
    {
      "cell_type": "code",
      "metadata": {
        "id": "KHUaJJNK_tji",
        "colab": {
          "base_uri": "https://localhost:8080/",
          "height": 574
        },
        "outputId": "310e744e-0d41-45e8-fed4-f6935faa6b00"
      },
      "source": [
        "# Density Plot\n",
        "dataset.plot(kind = 'density', subplots = True, layout = (3,3), sharex = False, figsize = (15,10))\n",
        "plt.show()"
      ],
      "execution_count": 36,
      "outputs": [
        {
          "output_type": "display_data",
          "data": {
            "text/plain": [
              "<Figure size 1500x1000 with 9 Axes>"
            ],
            "image/png": "[encoded data removed]"
          },
          "metadata": {}
        }
      ]
    },
    {
      "cell_type": "markdown",
      "source": [
        "Os gráficos de densidade mostram que a maior parte dos dados concentra-se em intervalos específicos, com alguns outliers. O Peso e o Km têm distribuições com picos iniciais significativos e caudas longas, sugerindo alguns valores fora da média. O Ano concentra-se em torno de 2020, indicando a predominância de registros recentes. A variável Combustível apresenta uma distribuição bimodal, sugerindo dois tipos predominantes de combustível, enquanto o Consumo tem a maioria dos dados entre 5 e 15, com algumas variações menores. Esses gráficos revelam padrões claros nas variáveis analisadas."
      ],
      "metadata": {
        "id": "wJVhiAFZDWSc"
      }
    },
    {
      "cell_type": "markdown",
      "metadata": {
        "id": "08IaXUcCxuj6"
      },
      "source": [
        "Vamos agora trabalhar com boxplots. No **boxblot**, a linha no centro (vermelha) representa o valor da mediana (segundo quartil ou p50). A linha abaixo é o 1o quartil (p25) e a linha acima o terceiro quartil (p75). O boxplot ajuda a ter uma ideia da dispersão dos dataset e os possíveis outliers.\n",
        "\n",
        "*OBS: Se um ponto do dataset é muito distante da média (acima de 3 desvios padrão da média), pode ser considerado outlier.*\n"
      ]
    },
    {
      "cell_type": "code",
      "metadata": {
        "id": "Ctc5ftKgxurF",
        "colab": {
          "base_uri": "https://localhost:8080/",
          "height": 561
        },
        "outputId": "71dee2d7-7e86-4f0d-862b-7134427794af"
      },
      "source": [
        "# Boxplot\n",
        "dataset.plot(kind = 'box', subplots = True, layout = (3,3), sharex = False, sharey = False, figsize = (15,10))\n",
        "plt.show()"
      ],
      "execution_count": 37,
      "outputs": [
        {
          "output_type": "display_data",
          "data": {
            "text/plain": [
              "<Figure size 1500x1000 with 9 Axes>"
            ],
            "image/png": "[encoded data removed]"
          },
          "metadata": {}
        }
      ]
    },
    {
      "cell_type": "markdown",
      "source": [
        "Os boxplots mostram que as variáveis Peso, Km e Consumo possuem outliers, indicando valores extremos que destoam da maioria dos dados, enquanto a variável Ano possui uma distribuição mais uniforme e sem outliers. Já a variável Combustível parece ter uma variação limitada, pois é categorizada em apenas dois valores. A mediana de cada variável está dentro dos intervalos esperados, mas as discrepâncias em Peso, Km e Consumo sugerem a necessidade de uma análise mais detalhada para entender esses pontos fora do padrão."
      ],
      "metadata": {
        "id": "BMWNYQmniWtt"
      }
    },
    {
      "cell_type": "markdown",
      "metadata": {
        "id": "oMMGbjYbAe-3"
      },
      "source": [
        "### 3.3. Visualizações Multimodais\n",
        "\n",
        "A matriz de correlação apresentada mostra como as variáveis do conjunto de dados se relacionam entre si, com valores variando de -1 a 1. As células em tons de azul mais escuro indicam correlações positivas fortes, como entre Peso e Combustível (0,7), enquanto as células em vermelho mais intenso sugerem correlações negativas, como entre Combustível e Consumo (-0,72). Isso implica que conforme o consumo aumenta, o combustível e o peso tendem a diminuir. As variáveis Ano e Consumo também possuem uma correlação moderadamente positiva (0,46), sugerindo que veículos mais novos têm maior consumo. Analisar essas relações é fundamental, pois variáveis altamente correlacionadas podem impactar o desempenho de alguns algoritmos de aprendizado de máquina, como a regressão linear, exigindo técnicas como a remoção de atributos redundantes ou regularização para evitar colinearidade.\n",
        "\n",
        "O código abaixo apresenta a matriz de correlação.\n"
      ]
    },
    {
      "cell_type": "code",
      "metadata": {
        "id": "xB612g0aAfE6",
        "colab": {
          "base_uri": "https://localhost:8080/",
          "height": 435
        },
        "outputId": "461a9cf9-52a6-4505-e622-e97f8a357b79"
      },
      "source": [
        "# Matriz de Correlação com Matplotlib Seaborn\n",
        "sns.heatmap(dataset.corr(), annot=True, cmap='RdBu');"
      ],
      "execution_count": 38,
      "outputs": [
        {
          "output_type": "display_data",
          "data": {
            "text/plain": [
              "<Figure size 640x480 with 2 Axes>"
            ],
            "image/png": "[encoded data removed]"
          },
          "metadata": {}
        }
      ]
    },
    {
      "cell_type": "markdown",
      "metadata": {
        "id": "mE4-PIaTAfKX"
      },
      "source": [
        "## 4. Preparação dos dados\n",
        "\n",
        "Nesta etapa, poderíamos realizar diversas operações de preparação de dados, como por exemplo, tratamento de valores missings (faltantes), limpeza de dados, transformações como one-hot-encoding, seleção de características (feature selection), entre outras não mostradas neste notebook. Lembre-se de não criar uma versão padronizada/normalizada dos dados neste momento (apesar de serem operações de pré-processamento) para evitar o Data Leakage."
      ]
    },
    {
      "cell_type": "markdown",
      "metadata": {
        "id": "REo1UJQZLuFV"
      },
      "source": [
        "### 4.1. Tratamento de Missings e Limpeza"
      ]
    },
    {
      "cell_type": "markdown",
      "metadata": {
        "id": "KhAz17RD6YP4"
      },
      "source": [
        "O tratamento dos dados foi feito de forma manual, no arquivo nativo da ticketlog, de forma que não há nenhum valor vazio e eliminação dos dados desnecessários."
      ]
    },
    {
      "cell_type": "code",
      "metadata": {
        "id": "-Utzu_kmLwWi",
        "colab": {
          "base_uri": "https://localhost:8080/",
          "height": 241
        },
        "outputId": "cbe134b3-46cd-47ea-91fd-d80405bf2351"
      },
      "source": [
        "# verificando nulls no dataset\n",
        "dataset.isnull().sum()"
      ],
      "execution_count": 39,
      "outputs": [
        {
          "output_type": "execute_result",
          "data": {
            "text/plain": [
              "Peso           0\n",
              "Ano            0\n",
              "Combustível    0\n",
              "Km             0\n",
              "Consumo        0\n",
              "dtype: int64"
            ],
            "text/html": [
              "<div>\n",
              "<style scoped>\n",
              "    .dataframe tbody tr th:only-of-type {\n",
              "        vertical-align: middle;\n",
              "    }\n",
              "\n",
              "    .dataframe tbody tr th {\n",
              "        vertical-align: top;\n",
              "    }\n",
              "\n",
              "    .dataframe thead th {\n",
              "        text-align: right;\n",
              "    }\n",
              "</style>\n",
              "<table border=\"1\" class=\"dataframe\">\n",
              "  <thead>\n",
              "    <tr style=\"text-align: right;\">\n",
              "      <th></th>\n",
              "      <th>0</th>\n",
              "    </tr>\n",
              "  </thead>\n",
              "  <tbody>\n",
              "    <tr>\n",
              "      <th>Peso</th>\n",
              "      <td>0</td>\n",
              "    </tr>\n",
              "    <tr>\n",
              "      <th>Ano</th>\n",
              "      <td>0</td>\n",
              "    </tr>\n",
              "    <tr>\n",
              "      <th>Combustível</th>\n",
              "      <td>0</td>\n",
              "    </tr>\n",
              "    <tr>\n",
              "      <th>Km</th>\n",
              "      <td>0</td>\n",
              "    </tr>\n",
              "    <tr>\n",
              "      <th>Consumo</th>\n",
              "      <td>0</td>\n",
              "    </tr>\n",
              "  </tbody>\n",
              "</table>\n",
              "</div><br><label><b>dtype:</b> int64</label>"
            ]
          },
          "metadata": {},
          "execution_count": 39
        }
      ]
    },
    {
      "cell_type": "markdown",
      "metadata": {
        "id": "LoLQBjKl9JVD"
      },
      "source": [
        "### 4.2. Separação em conjunto de treino e conjunto de teste\n",
        "\n",
        "É uma boa prática reservar um conjunto de teste, também conhecido como conjunto de validação, que consiste em uma amostra dos dados não utilizada na construção do modelo, mas aplicada apenas ao final para avaliar sua precisão. Esse procedimento permite verificar o quão bem o modelo foi construído e fornece uma estimativa de seu desempenho em dados novos. Neste caso, utilizaremos 80% dos dados para a modelagem e reservaremos 20% para teste, empregando a estratégia train_test_split mencionada anteriormente.\n",
        "\n"
      ]
    },
    {
      "cell_type": "markdown",
      "source": [
        "Aqui, separamos as variáveis independentes (features) e a variável dependente (alvo) para o modelo preditivo."
      ],
      "metadata": {
        "id": "hnnrwW1ntPX4"
      }
    },
    {
      "cell_type": "code",
      "metadata": {
        "id": "fEiAm3LEAfPt",
        "collapsed": true
      },
      "source": [
        "# Selecionando as features e a variável alvo\n",
        "X = dataset[['Peso', 'Ano', 'Combustível','Km']]\n",
        "y = dataset['Consumo']\n"
      ],
      "execution_count": 40,
      "outputs": []
    },
    {
      "cell_type": "markdown",
      "source": [
        "Dividimos o dataset em conjuntos de treino e teste, onde 20% dos dados serão usados para teste."
      ],
      "metadata": {
        "id": "CTVGuliSteyS"
      }
    },
    {
      "cell_type": "code",
      "source": [
        "# Dividindo os dados em treino e teste\n",
        "X_train, X_test, y_train, y_test = train_test_split(X, y, test_size=0.2, random_state=42)"
      ],
      "metadata": {
        "id": "eeBqc86-tZa-"
      },
      "execution_count": 41,
      "outputs": []
    },
    {
      "cell_type": "markdown",
      "source": [
        "## 5. Construindo o Pipeline\n",
        "\n",
        "### 5.1 Criando o Pipeline de Pré-processamento\n",
        "\n",
        "Aqui, definimos quais características são numéricas e configuramos um transformador para escalonar essas características."
      ],
      "metadata": {
        "id": "MLGoF_xtK-eR"
      }
    },
    {
      "cell_type": "code",
      "source": [
        "numeric_features = ['Peso', 'Ano', 'Km', 'Combustível']\n",
        "categorical_features = []  # Nenhuma\n",
        "\n",
        "# Pré-processamento\n",
        "preprocessor = ColumnTransformer(\n",
        "    transformers=[\n",
        "        ('num', StandardScaler(), numeric_features)\n",
        "    ])"
      ],
      "metadata": {
        "id": "nl7FNM2VtppJ"
      },
      "execution_count": 42,
      "outputs": []
    },
    {
      "cell_type": "markdown",
      "source": [
        "##5.2 Definição dos modelos e seus respectivos grids de hiperparâmetros\n",
        "Aqui, definimos vários modelos de regressão que serão testados, juntamente com os parâmetros que serão ajustados."
      ],
      "metadata": {
        "id": "FlIwTgl2t7x8"
      }
    },
    {
      "cell_type": "code",
      "source": [
        "# Definição dos modelos e seus respectivos grids de hiperparâmetros\n",
        "modelos = {\n",
        "    'Linear Regression': {\n",
        "        'pipeline': Pipeline(steps=[\n",
        "            ('preprocessor', preprocessor),\n",
        "            ('regressor', LinearRegression())\n",
        "        ]),\n",
        "        'param_grid': {}\n",
        "    },\n",
        "    'Ridge Regression': {\n",
        "        'pipeline': Pipeline(steps=[\n",
        "            ('preprocessor', preprocessor),\n",
        "            ('regressor', Ridge())\n",
        "        ]),\n",
        "        'param_grid': {\n",
        "            'regressor__alpha': [0.1, 1.0, 10.0, 100.0],\n",
        "            'regressor__solver': ['auto', 'svd', 'cholesky', 'lsqr']\n",
        "        }\n",
        "    },\n",
        "    'Lasso Regression': {\n",
        "        'pipeline': Pipeline(steps=[\n",
        "            ('preprocessor', preprocessor),\n",
        "            ('regressor', Lasso())\n",
        "        ]),\n",
        "        'param_grid': {\n",
        "            'regressor__alpha': [0.01, 0.1, 1.0, 10.0],\n",
        "            'regressor__max_iter': [1000, 5000, 10000]\n",
        "        }\n",
        "    },\n",
        "    'Elastic Net': {\n",
        "        'pipeline': Pipeline(steps=[\n",
        "            ('preprocessor', preprocessor),\n",
        "            ('regressor', ElasticNet())\n",
        "        ]),\n",
        "        'param_grid': {\n",
        "            'regressor__alpha': [0.1, 1.0, 10.0],\n",
        "            'regressor__l1_ratio': [0.2, 0.5, 0.8],\n",
        "            'regressor__max_iter': [1000, 5000, 10000]\n",
        "        }\n",
        "    },\n",
        "    'Random Forest': {\n",
        "        'pipeline': Pipeline(steps=[\n",
        "            ('preprocessor', preprocessor),\n",
        "            ('regressor', RandomForestRegressor(random_state=42))\n",
        "        ]),\n",
        "        'param_grid': {\n",
        "            'regressor__n_estimators': [100, 200, 300],\n",
        "            'regressor__max_depth': [None, 10, 20, 30],\n",
        "            'regressor__min_samples_split': [2, 5, 10],\n",
        "        }\n",
        "    },\n",
        "    'Gradient Boosting': {\n",
        "        'pipeline': Pipeline(steps=[\n",
        "            ('preprocessor', preprocessor),\n",
        "            ('regressor', GradientBoostingRegressor(random_state=42))\n",
        "        ]),\n",
        "        'param_grid': {\n",
        "            'regressor__n_estimators': [100, 200, 300],\n",
        "            'regressor__learning_rate': [0.01, 0.1, 0.2],\n",
        "            'regressor__max_depth': [3, 5, 7],\n",
        "            'regressor__min_samples_split': [2, 5, 10],\n",
        "        }\n",
        "    },\n",
        "    'Support Vector Regressor': {\n",
        "        'pipeline': Pipeline(steps=[\n",
        "            ('preprocessor', preprocessor),\n",
        "            ('regressor', SVR())\n",
        "        ]),\n",
        "        'param_grid': {\n",
        "            'regressor__C': [0.1, 1, 10, 100],\n",
        "            'regressor__gamma': ['scale', 'auto'],\n",
        "            'regressor__kernel': ['linear', 'rbf', 'poly']\n",
        "        }\n",
        "    },\n",
        "    'K-Nearest Neighbors': {\n",
        "        'pipeline': Pipeline(steps=[\n",
        "            ('preprocessor', preprocessor),\n",
        "            ('regressor', KNeighborsRegressor())\n",
        "        ]),\n",
        "        'param_grid': {\n",
        "            'regressor__n_neighbors': [3, 5, 7, 9],\n",
        "            'regressor__weights': ['uniform', 'distance'],\n",
        "            'regressor__p': [1, 2]\n",
        "        }\n",
        "    },\n",
        "    'Decision Tree': {\n",
        "        'pipeline': Pipeline(steps=[\n",
        "            ('preprocessor', preprocessor),\n",
        "            ('regressor', DecisionTreeRegressor(random_state=42))\n",
        "        ]),\n",
        "        'param_grid': {\n",
        "            'regressor__max_depth': [None, 10, 20, 30],\n",
        "            'regressor__min_samples_split': [2, 5, 10],\n",
        "            'regressor__min_samples_leaf': [1, 2, 4]\n",
        "        }\n",
        "    }\n",
        "}"
      ],
      "metadata": {
        "id": "Y8mJWZvTtz4h"
      },
      "execution_count": 43,
      "outputs": []
    },
    {
      "cell_type": "markdown",
      "source": [
        "##5.3-Treinamento e otimização dos modelos\n",
        "\n",
        "Aqui, realizamos o treinamento e a otimização de cada modelo usando GridSearchCV, e calculamos as métricas de desempenho."
      ],
      "metadata": {
        "id": "2yuUjTA4uH80"
      }
    },
    {
      "cell_type": "code",
      "source": [
        "# Armazenar os melhores resultados\n",
        "melhores_resultados = []\n",
        "\n",
        "# Loop através de cada modelo para realizar GridSearchCV\n",
        "for nome, modelo_info in modelos.items():\n",
        "    print(f\"\\nTreinando e otimizando o modelo: {nome}\")\n",
        "    pipeline = modelo_info['pipeline']\n",
        "    param_grid = modelo_info['param_grid']\n",
        "\n",
        "    # Definir GridSearchCV\n",
        "    grid_search = GridSearchCV(\n",
        "        estimator=pipeline,\n",
        "        param_grid=param_grid,\n",
        "        cv=5,\n",
        "        scoring='r2',\n",
        "        n_jobs=-1,\n",
        "        verbose=0\n",
        "    )\n",
        "\n",
        "    # Treinar com GridSearchCV\n",
        "    grid_search.fit(X_train, y_train)\n",
        "\n",
        "    # Previsões no conjunto de teste\n",
        "    y_pred = grid_search.predict(X_test)\n",
        "\n",
        "    # Calcular métricas\n",
        "    r2 = r2_score(y_test, y_pred)\n",
        "    mse = mean_squared_error(y_test, y_pred)\n",
        "    mae = mean_absolute_error(y_test, y_pred)\n",
        "\n",
        "    # Armazenar resultados\n",
        "    melhores_resultados.append({\n",
        "        'Modelo': nome,\n",
        "        'Melhores Parâmetros': grid_search.best_params_,\n",
        "        'R2': r2,\n",
        "        'MSE': mse,\n",
        "        'MAE': mae\n",
        "    })\n"
      ],
      "metadata": {
        "colab": {
          "base_uri": "https://localhost:8080/"
        },
        "id": "KKloViSzuRZm",
        "outputId": "bd7efbb4-0391-48dd-e826-2742230a50ab"
      },
      "execution_count": 44,
      "outputs": [
        {
          "output_type": "stream",
          "name": "stdout",
          "text": [
            "\n",
            "Treinando e otimizando o modelo: Linear Regression\n",
            "\n",
            "Treinando e otimizando o modelo: Ridge Regression\n",
            "\n",
            "Treinando e otimizando o modelo: Lasso Regression\n",
            "\n",
            "Treinando e otimizando o modelo: Elastic Net\n",
            "\n",
            "Treinando e otimizando o modelo: Random Forest\n",
            "\n",
            "Treinando e otimizando o modelo: Gradient Boosting\n",
            "\n",
            "Treinando e otimizando o modelo: Support Vector Regressor\n",
            "\n",
            "Treinando e otimizando o modelo: K-Nearest Neighbors\n",
            "\n",
            "Treinando e otimizando o modelo: Decision Tree\n"
          ]
        }
      ]
    },
    {
      "cell_type": "markdown",
      "source": [
        "##5.4- Apresentação dos resultados\n",
        "Aqui, organizamos os resultados dos modelos em um DataFrame para fácil visualização e apresentação."
      ],
      "metadata": {
        "id": "6tmF0JevuW2B"
      }
    },
    {
      "cell_type": "code",
      "source": [
        "# Converter resultados em DataFrame\n",
        "resultados_df = pd.DataFrame(melhores_resultados)\n",
        "\n",
        "# Ordenar por R2\n",
        "resultados_df = resultados_df.sort_values(by='R2', ascending=False)\n",
        "\n",
        "# Mostrar os resultados\n",
        "display(resultados_df)"
      ],
      "metadata": {
        "colab": {
          "base_uri": "https://localhost:8080/",
          "height": 331
        },
        "id": "YWB018yHufgS",
        "outputId": "a193ab07-f8f8-4eed-b44d-f0a43597353b"
      },
      "execution_count": 45,
      "outputs": [
        {
          "output_type": "display_data",
          "data": {
            "text/plain": [
              "                     Modelo  \\\n",
              "4             Random Forest   \n",
              "5         Gradient Boosting   \n",
              "6  Support Vector Regressor   \n",
              "2          Lasso Regression   \n",
              "0         Linear Regression   \n",
              "1          Ridge Regression   \n",
              "3               Elastic Net   \n",
              "8             Decision Tree   \n",
              "7       K-Nearest Neighbors   \n",
              "\n",
              "                                 Melhores Parâmetros        R2       MSE  \\\n",
              "4  {'regressor__max_depth': None, 'regressor__min...  0.856443  2.229770   \n",
              "5  {'regressor__learning_rate': 0.01, 'regressor_...  0.855695  2.241391   \n",
              "6  {'regressor__C': 10, 'regressor__gamma': 'scal...  0.841397  2.463469   \n",
              "2  {'regressor__alpha': 0.1, 'regressor__max_iter...  0.834808  2.565805   \n",
              "0                                                 {}  0.831303  2.620253   \n",
              "1  {'regressor__alpha': 10.0, 'regressor__solver'...  0.830647  2.630441   \n",
              "3  {'regressor__alpha': 0.1, 'regressor__l1_ratio...  0.829922  2.641690   \n",
              "8  {'regressor__max_depth': 10, 'regressor__min_s...  0.653955  5.374855   \n",
              "7  {'regressor__n_neighbors': 9, 'regressor__p': ...  0.643579  5.536017   \n",
              "\n",
              "        MAE  \n",
              "4  0.950163  \n",
              "5  1.049727  \n",
              "6  1.066464  \n",
              "2  1.134826  \n",
              "0  1.143684  \n",
              "1  1.157303  \n",
              "3  1.162031  \n",
              "8  1.190602  \n",
              "7  1.472554  "
            ],
            "text/html": [
              "\n",
              "  <div id=\"df-5f07b50f-ec2a-47ee-808f-df7bef21648b\" class=\"colab-df-container\">\n",
              "    <div>\n",
              "<style scoped>\n",
              "    .dataframe tbody tr th:only-of-type {\n",
              "        vertical-align: middle;\n",
              "    }\n",
              "\n",
              "    .dataframe tbody tr th {\n",
              "        vertical-align: top;\n",
              "    }\n",
              "\n",
              "    .dataframe thead th {\n",
              "        text-align: right;\n",
              "    }\n",
              "</style>\n",
              "<table border=\"1\" class=\"dataframe\">\n",
              "  <thead>\n",
              "    <tr style=\"text-align: right;\">\n",
              "      <th></th>\n",
              "      <th>Modelo</th>\n",
              "      <th>Melhores Parâmetros</th>\n",
              "      <th>R2</th>\n",
              "      <th>MSE</th>\n",
              "      <th>MAE</th>\n",
              "    </tr>\n",
              "  </thead>\n",
              "  <tbody>\n",
              "    <tr>\n",
              "      <th>4</th>\n",
              "      <td>Random Forest</td>\n",
              "      <td>{'regressor__max_depth': None, 'regressor__min...</td>\n",
              "      <td>0.856443</td>\n",
              "      <td>2.229770</td>\n",
              "      <td>0.950163</td>\n",
              "    </tr>\n",
              "    <tr>\n",
              "      <th>5</th>\n",
              "      <td>Gradient Boosting</td>\n",
              "      <td>{'regressor__learning_rate': 0.01, 'regressor_...</td>\n",
              "      <td>0.855695</td>\n",
              "      <td>2.241391</td>\n",
              "      <td>1.049727</td>\n",
              "    </tr>\n",
              "    <tr>\n",
              "      <th>6</th>\n",
              "      <td>Support Vector Regressor</td>\n",
              "      <td>{'regressor__C': 10, 'regressor__gamma': 'scal...</td>\n",
              "      <td>0.841397</td>\n",
              "      <td>2.463469</td>\n",
              "      <td>1.066464</td>\n",
              "    </tr>\n",
              "    <tr>\n",
              "      <th>2</th>\n",
              "      <td>Lasso Regression</td>\n",
              "      <td>{'regressor__alpha': 0.1, 'regressor__max_iter...</td>\n",
              "      <td>0.834808</td>\n",
              "      <td>2.565805</td>\n",
              "      <td>1.134826</td>\n",
              "    </tr>\n",
              "    <tr>\n",
              "      <th>0</th>\n",
              "      <td>Linear Regression</td>\n",
              "      <td>{}</td>\n",
              "      <td>0.831303</td>\n",
              "      <td>2.620253</td>\n",
              "      <td>1.143684</td>\n",
              "    </tr>\n",
              "    <tr>\n",
              "      <th>1</th>\n",
              "      <td>Ridge Regression</td>\n",
              "      <td>{'regressor__alpha': 10.0, 'regressor__solver'...</td>\n",
              "      <td>0.830647</td>\n",
              "      <td>2.630441</td>\n",
              "      <td>1.157303</td>\n",
              "    </tr>\n",
              "    <tr>\n",
              "      <th>3</th>\n",
              "      <td>Elastic Net</td>\n",
              "      <td>{'regressor__alpha': 0.1, 'regressor__l1_ratio...</td>\n",
              "      <td>0.829922</td>\n",
              "      <td>2.641690</td>\n",
              "      <td>1.162031</td>\n",
              "    </tr>\n",
              "    <tr>\n",
              "      <th>8</th>\n",
              "      <td>Decision Tree</td>\n",
              "      <td>{'regressor__max_depth': 10, 'regressor__min_s...</td>\n",
              "      <td>0.653955</td>\n",
              "      <td>5.374855</td>\n",
              "      <td>1.190602</td>\n",
              "    </tr>\n",
              "    <tr>\n",
              "      <th>7</th>\n",
              "      <td>K-Nearest Neighbors</td>\n",
              "      <td>{'regressor__n_neighbors': 9, 'regressor__p': ...</td>\n",
              "      <td>0.643579</td>\n",
              "      <td>5.536017</td>\n",
              "      <td>1.472554</td>\n",
              "    </tr>\n",
              "  </tbody>\n",
              "</table>\n",
              "</div>\n",
              "    <div class=\"colab-df-buttons\">\n",
              "\n",
              "  <div class=\"colab-df-container\">\n",
              "    <button class=\"colab-df-convert\" onclick=\"convertToInteractive('df-5f07b50f-ec2a-47ee-808f-df7bef21648b')\"\n",
              "            title=\"Convert this dataframe to an interactive table.\"\n",
              "            style=\"display:none;\">\n",
              "\n",
              "  <svg xmlns=\"http://www.w3.org/2000/svg\" height=\"24px\" viewBox=\"0 -960 960 960\">\n",
              "    <path d=\"M120-120v-720h720v720H120Zm60-500h600v-160H180v160Zm220 220h160v-160H400v160Zm0 220h160v-160H400v160ZM180-400h160v-160H180v160Zm440 0h160v-160H620v160ZM180-180h160v-160H180v160Zm440 0h160v-160H620v160Z\"/>\n",
              "  </svg>\n",
              "    </button>\n",
              "\n",
              "  <style>\n",
              "    .colab-df-container {\n",
              "      display:flex;\n",
              "      gap: 12px;\n",
              "    }\n",
              "\n",
              "    .colab-df-convert {\n",
              "      background-color: #E8F0FE;\n",
              "      border: none;\n",
              "      border-radius: 50%;\n",
              "      cursor: pointer;\n",
              "      display: none;\n",
              "      fill: #1967D2;\n",
              "      height: 32px;\n",
              "      padding: 0 0 0 0;\n",
              "      width: 32px;\n",
              "    }\n",
              "\n",
              "    .colab-df-convert:hover {\n",
              "      background-color: #E2EBFA;\n",
              "      box-shadow: 0px 1px 2px rgba(60, 64, 67, 0.3), 0px 1px 3px 1px rgba(60, 64, 67, 0.15);\n",
              "      fill: #174EA6;\n",
              "    }\n",
              "\n",
              "    .colab-df-buttons div {\n",
              "      margin-bottom: 4px;\n",
              "    }\n",
              "\n",
              "    [theme=dark] .colab-df-convert {\n",
              "      background-color: #3B4455;\n",
              "      fill: #D2E3FC;\n",
              "    }\n",
              "\n",
              "    [theme=dark] .colab-df-convert:hover {\n",
              "      background-color: #434B5C;\n",
              "      box-shadow: 0px 1px 3px 1px rgba(0, 0, 0, 0.15);\n",
              "      filter: drop-shadow(0px 1px 2px rgba(0, 0, 0, 0.3));\n",
              "      fill: #FFFFFF;\n",
              "    }\n",
              "  </style>\n",
              "\n",
              "    <script>\n",
              "      const buttonEl =\n",
              "        document.querySelector('#df-5f07b50f-ec2a-47ee-808f-df7bef21648b button.colab-df-convert');\n",
              "      buttonEl.style.display =\n",
              "        google.colab.kernel.accessAllowed ? 'block' : 'none';\n",
              "\n",
              "      async function convertToInteractive(key) {\n",
              "        const element = document.querySelector('#df-5f07b50f-ec2a-47ee-808f-df7bef21648b');\n",
              "        const dataTable =\n",
              "          await google.colab.kernel.invokeFunction('convertToInteractive',\n",
              "                                                    [key], {});\n",
              "        if (!dataTable) return;\n",
              "\n",
              "        const docLinkHtml = 'Like what you see? Visit the ' +\n",
              "          '<a target=\"_blank\" href=https://colab.research.google.com/notebooks/data_table.ipynb>data table notebook</a>'\n",
              "          + ' to learn more about interactive tables.';\n",
              "        element.innerHTML = '';\n",
              "        dataTable['output_type'] = 'display_data';\n",
              "        await google.colab.output.renderOutput(dataTable, element);\n",
              "        const docLink = document.createElement('div');\n",
              "        docLink.innerHTML = docLinkHtml;\n",
              "        element.appendChild(docLink);\n",
              "      }\n",
              "    </script>\n",
              "  </div>\n",
              "\n",
              "\n",
              "<div id=\"df-e8cf746f-a0eb-4737-bb72-db368e26e8e0\">\n",
              "  <button class=\"colab-df-quickchart\" onclick=\"quickchart('df-e8cf746f-a0eb-4737-bb72-db368e26e8e0')\"\n",
              "            title=\"Suggest charts\"\n",
              "            style=\"display:none;\">\n",
              "\n",
              "<svg xmlns=\"http://www.w3.org/2000/svg\" height=\"24px\"viewBox=\"0 0 24 24\"\n",
              "     width=\"24px\">\n",
              "    <g>\n",
              "        <path d=\"M19 3H5c-1.1 0-2 .9-2 2v14c0 1.1.9 2 2 2h14c1.1 0 2-.9 2-2V5c0-1.1-.9-2-2-2zM9 17H7v-7h2v7zm4 0h-2V7h2v10zm4 0h-2v-4h2v4z\"/>\n",
              "    </g>\n",
              "</svg>\n",
              "  </button>\n",
              "\n",
              "<style>\n",
              "  .colab-df-quickchart {\n",
              "      --bg-color: #E8F0FE;\n",
              "      --fill-color: #1967D2;\n",
              "      --hover-bg-color: #E2EBFA;\n",
              "      --hover-fill-color: #174EA6;\n",
              "      --disabled-fill-color: #AAA;\n",
              "      --disabled-bg-color: #DDD;\n",
              "  }\n",
              "\n",
              "  [theme=dark] .colab-df-quickchart {\n",
              "      --bg-color: #3B4455;\n",
              "      --fill-color: #D2E3FC;\n",
              "      --hover-bg-color: #434B5C;\n",
              "      --hover-fill-color: #FFFFFF;\n",
              "      --disabled-bg-color: #3B4455;\n",
              "      --disabled-fill-color: #666;\n",
              "  }\n",
              "\n",
              "  .colab-df-quickchart {\n",
              "    background-color: var(--bg-color);\n",
              "    border: none;\n",
              "    border-radius: 50%;\n",
              "    cursor: pointer;\n",
              "    display: none;\n",
              "    fill: var(--fill-color);\n",
              "    height: 32px;\n",
              "    padding: 0;\n",
              "    width: 32px;\n",
              "  }\n",
              "\n",
              "  .colab-df-quickchart:hover {\n",
              "    background-color: var(--hover-bg-color);\n",
              "    box-shadow: 0 1px 2px rgba(60, 64, 67, 0.3), 0 1px 3px 1px rgba(60, 64, 67, 0.15);\n",
              "    fill: var(--button-hover-fill-color);\n",
              "  }\n",
              "\n",
              "  .colab-df-quickchart-complete:disabled,\n",
              "  .colab-df-quickchart-complete:disabled:hover {\n",
              "    background-color: var(--disabled-bg-color);\n",
              "    fill: var(--disabled-fill-color);\n",
              "    box-shadow: none;\n",
              "  }\n",
              "\n",
              "  .colab-df-spinner {\n",
              "    border: 2px solid var(--fill-color);\n",
              "    border-color: transparent;\n",
              "    border-bottom-color: var(--fill-color);\n",
              "    animation:\n",
              "      spin 1s steps(1) infinite;\n",
              "  }\n",
              "\n",
              "  @keyframes spin {\n",
              "    0% {\n",
              "      border-color: transparent;\n",
              "      border-bottom-color: var(--fill-color);\n",
              "      border-left-color: var(--fill-color);\n",
              "    }\n",
              "    20% {\n",
              "      border-color: transparent;\n",
              "      border-left-color: var(--fill-color);\n",
              "      border-top-color: var(--fill-color);\n",
              "    }\n",
              "    30% {\n",
              "      border-color: transparent;\n",
              "      border-left-color: var(--fill-color);\n",
              "      border-top-color: var(--fill-color);\n",
              "      border-right-color: var(--fill-color);\n",
              "    }\n",
              "    40% {\n",
              "      border-color: transparent;\n",
              "      border-right-color: var(--fill-color);\n",
              "      border-top-color: var(--fill-color);\n",
              "    }\n",
              "    60% {\n",
              "      border-color: transparent;\n",
              "      border-right-color: var(--fill-color);\n",
              "    }\n",
              "    80% {\n",
              "      border-color: transparent;\n",
              "      border-right-color: var(--fill-color);\n",
              "      border-bottom-color: var(--fill-color);\n",
              "    }\n",
              "    90% {\n",
              "      border-color: transparent;\n",
              "      border-bottom-color: var(--fill-color);\n",
              "    }\n",
              "  }\n",
              "</style>\n",
              "\n",
              "  <script>\n",
              "    async function quickchart(key) {\n",
              "      const quickchartButtonEl =\n",
              "        document.querySelector('#' + key + ' button');\n",
              "      quickchartButtonEl.disabled = true;  // To prevent multiple clicks.\n",
              "      quickchartButtonEl.classList.add('colab-df-spinner');\n",
              "      try {\n",
              "        const charts = await google.colab.kernel.invokeFunction(\n",
              "            'suggestCharts', [key], {});\n",
              "      } catch (error) {\n",
              "        console.error('Error during call to suggestCharts:', error);\n",
              "      }\n",
              "      quickchartButtonEl.classList.remove('colab-df-spinner');\n",
              "      quickchartButtonEl.classList.add('colab-df-quickchart-complete');\n",
              "    }\n",
              "    (() => {\n",
              "      let quickchartButtonEl =\n",
              "        document.querySelector('#df-e8cf746f-a0eb-4737-bb72-db368e26e8e0 button');\n",
              "      quickchartButtonEl.style.display =\n",
              "        google.colab.kernel.accessAllowed ? 'block' : 'none';\n",
              "    })();\n",
              "  </script>\n",
              "</div>\n",
              "\n",
              "  <div id=\"id_d659e6d6-25d9-4a04-821e-08770b084a54\">\n",
              "    <style>\n",
              "      .colab-df-generate {\n",
              "        background-color: #E8F0FE;\n",
              "        border: none;\n",
              "        border-radius: 50%;\n",
              "        cursor: pointer;\n",
              "        display: none;\n",
              "        fill: #1967D2;\n",
              "        height: 32px;\n",
              "        padding: 0 0 0 0;\n",
              "        width: 32px;\n",
              "      }\n",
              "\n",
              "      .colab-df-generate:hover {\n",
              "        background-color: #E2EBFA;\n",
              "        box-shadow: 0px 1px 2px rgba(60, 64, 67, 0.3), 0px 1px 3px 1px rgba(60, 64, 67, 0.15);\n",
              "        fill: #174EA6;\n",
              "      }\n",
              "\n",
              "      [theme=dark] .colab-df-generate {\n",
              "        background-color: #3B4455;\n",
              "        fill: #D2E3FC;\n",
              "      }\n",
              "\n",
              "      [theme=dark] .colab-df-generate:hover {\n",
              "        background-color: #434B5C;\n",
              "        box-shadow: 0px 1px 3px 1px rgba(0, 0, 0, 0.15);\n",
              "        filter: drop-shadow(0px 1px 2px rgba(0, 0, 0, 0.3));\n",
              "        fill: #FFFFFF;\n",
              "      }\n",
              "    </style>\n",
              "    <button class=\"colab-df-generate\" onclick=\"generateWithVariable('resultados_df')\"\n",
              "            title=\"Generate code using this dataframe.\"\n",
              "            style=\"display:none;\">\n",
              "\n",
              "  <svg xmlns=\"http://www.w3.org/2000/svg\" height=\"24px\"viewBox=\"0 0 24 24\"\n",
              "       width=\"24px\">\n",
              "    <path d=\"M7,19H8.4L18.45,9,17,7.55,7,17.6ZM5,21V16.75L18.45,3.32a2,2,0,0,1,2.83,0l1.4,1.43a1.91,1.91,0,0,1,.58,1.4,1.91,1.91,0,0,1-.58,1.4L9.25,21ZM18.45,9,17,7.55Zm-12,3A5.31,5.31,0,0,0,4.9,8.1,5.31,5.31,0,0,0,1,6.5,5.31,5.31,0,0,0,4.9,4.9,5.31,5.31,0,0,0,6.5,1,5.31,5.31,0,0,0,8.1,4.9,5.31,5.31,0,0,0,12,6.5,5.46,5.46,0,0,0,6.5,12Z\"/>\n",
              "  </svg>\n",
              "    </button>\n",
              "    <script>\n",
              "      (() => {\n",
              "      const buttonEl =\n",
              "        document.querySelector('#id_d659e6d6-25d9-4a04-821e-08770b084a54 button.colab-df-generate');\n",
              "      buttonEl.style.display =\n",
              "        google.colab.kernel.accessAllowed ? 'block' : 'none';\n",
              "\n",
              "      buttonEl.onclick = () => {\n",
              "        google.colab.notebook.generateWithVariable('resultados_df');\n",
              "      }\n",
              "      })();\n",
              "    </script>\n",
              "  </div>\n",
              "\n",
              "    </div>\n",
              "  </div>\n"
            ],
            "application/vnd.google.colaboratory.intrinsic+json": {
              "type": "dataframe",
              "variable_name": "resultados_df",
              "summary": "{\n  \"name\": \"resultados_df\",\n  \"rows\": 9,\n  \"fields\": [\n    {\n      \"column\": \"Modelo\",\n      \"properties\": {\n        \"dtype\": \"string\",\n        \"num_unique_values\": 9,\n        \"samples\": [\n          \"Decision Tree\",\n          \"Gradient Boosting\",\n          \"Ridge Regression\"\n        ],\n        \"semantic_type\": \"\",\n        \"description\": \"\"\n      }\n    },\n    {\n      \"column\": \"Melhores Par\\u00e2metros\",\n      \"properties\": {\n        \"dtype\": \"object\",\n        \"semantic_type\": \"\",\n        \"description\": \"\"\n      }\n    },\n    {\n      \"column\": \"R2\",\n      \"properties\": {\n        \"dtype\": \"number\",\n        \"std\": 0.08497700005006824,\n        \"min\": 0.64357948889021,\n        \"max\": 0.8564426757392289,\n        \"num_unique_values\": 9,\n        \"samples\": [\n          0.6539554356430081,\n          0.8556945179505605,\n          0.8306465990733732\n        ],\n        \"semantic_type\": \"\",\n        \"description\": \"\"\n      }\n    },\n    {\n      \"column\": \"MSE\",\n      \"properties\": {\n        \"dtype\": \"number\",\n        \"std\": 1.3198850502390935,\n        \"min\": 2.229770008737387,\n        \"max\": 5.536016850856232,\n        \"num_unique_values\": 9,\n        \"samples\": [\n          5.374854924770043,\n          2.241390591717507,\n          2.630441436606382\n        ],\n        \"semantic_type\": \"\",\n        \"description\": \"\"\n      }\n    },\n    {\n      \"column\": \"MAE\",\n      \"properties\": {\n        \"dtype\": \"number\",\n        \"std\": 0.1427710433860792,\n        \"min\": 0.9501627934549676,\n        \"max\": 1.47255376344086,\n        \"num_unique_values\": 9,\n        \"samples\": [\n          1.1906023425499233,\n          1.0497267563748238,\n          1.15730292340008\n        ],\n        \"semantic_type\": \"\",\n        \"description\": \"\"\n      }\n    }\n  ]\n}"
            }
          },
          "metadata": {}
        }
      ]
    },
    {
      "cell_type": "code",
      "source": [],
      "metadata": {
        "id": "866fYmzUBrsa"
      },
      "execution_count": 45,
      "outputs": []
    },
    {
      "cell_type": "markdown",
      "source": [
        "##5.5- Visualização dos resultados\n"
      ],
      "metadata": {
        "id": "pd0sqOfOujBS"
      }
    },
    {
      "cell_type": "code",
      "source": [
        "# Visualizar o desempenho dos modelos\n",
        "plt.figure(figsize=(10, 6))\n",
        "sns.barplot(data=resultados_df, x='Modelo', y='R2', palette='viridis')\n",
        "plt.title('Desempenho dos Modelos')\n",
        "plt.xticks(rotation=45)\n",
        "plt.ylabel('R2 Score')\n",
        "plt.show()"
      ],
      "metadata": {
        "colab": {
          "base_uri": "https://localhost:8080/",
          "height": 685
        },
        "id": "wB-hammjuvMy",
        "outputId": "3ece3e42-8920-49fb-886a-ea5509e963c3"
      },
      "execution_count": 46,
      "outputs": [
        {
          "output_type": "display_data",
          "data": {
            "text/plain": [
              "<Figure size 1000x600 with 1 Axes>"
            ],
            "image/png": "[encoded data removed]"
          },
          "metadata": {}
        }
      ]
    },
    {
      "cell_type": "markdown",
      "source": [
        "Os resultados mostram que os modelos baseados em árvores, como Random Forest e Gradient Boosting, apresentaram o melhor desempenho com um R² Score próximo de 0,85, indicando maior capacidade de explicação da variação dos dados. Já os modelos lineares e regressões como Lasso, Ridge e Elastic Net obtiveram desempenho intermediário, com R² acima de 0,8, enquanto Decision Tree e K-Nearest Neighbors tiveram os piores resultados, com R² abaixo de 0,75, sugerindo que são menos adequados para o problema analisado.\n",
        "\n",
        "Se a prioridade é velocidade, o Random Forest tende a ser a escolha preferida, principalmente em conjuntos de dados grandes ou para previsões rápidas. No entanto, o Gradient Boosting frequentemente supera o Random Forest em termos de precisão, embora a um custo maior de tempo e recursos computacionais.\n"
      ],
      "metadata": {
        "id": "eFBhpCyv3t-V"
      }
    },
    {
      "cell_type": "markdown",
      "source": [
        "##5.6-Salvar o melhor modelo\n",
        "\n",
        "Aqui, salvamos o melhor modelo de acordo com o R2 score em um arquivo para uso futuro."
      ],
      "metadata": {
        "id": "Ogy_TjlfuyH1"
      }
    },
    {
      "cell_type": "code",
      "source": [
        "# Salvar o melhor modelo\n",
        "melhor_modelo = resultados_df.iloc[0]['Modelo']\n",
        "melhor_pipeline = modelos[melhor_modelo]['pipeline'].set_params(**resultados_df.iloc[0]['Melhores Parâmetros'])\n",
        "melhor_pipeline.fit(X_train, y_train)\n",
        "\n",
        "# Salvar o modelo\n",
        "joblib.dump(melhor_pipeline, 'melhor_modelo.pkl')\n"
      ],
      "metadata": {
        "colab": {
          "base_uri": "https://localhost:8080/"
        },
        "id": "857PhrLju4vj",
        "outputId": "dac73e85-274c-41db-960a-74428db0d8c2"
      },
      "execution_count": 47,
      "outputs": [
        {
          "output_type": "execute_result",
          "data": {
            "text/plain": [
              "['melhor_modelo.pkl']"
            ]
          },
          "metadata": {},
          "execution_count": 47
        }
      ]
    },
    {
      "cell_type": "markdown",
      "source": [],
      "metadata": {
        "id": "j7BYlVMEu9TI"
      }
    },
    {
      "cell_type": "code",
      "source": [
        "  # Definir o modelo escolhido (exemplo com Random Forest)\n",
        "melhor_pipeline = Pipeline(steps=[('preprocessor', preprocessor), ('regressor', RandomForestRegressor(random_state=42))])\n",
        "\n",
        "# Treinar o pipeline com os dados de treino\n",
        "melhor_pipeline.fit(X_train, y_train)\n",
        "\n",
        "# Widgets para entrada de dados\n",
        "peso_widget = widgets.FloatSlider(value=1200, min=500, max=3000, step=50, description='Peso (kg):')\n",
        "ano_widget = widgets.IntSlider(value=2020, min=1990, max=2024, step=1, description='Ano:')\n",
        "combustivel_widget = widgets.Dropdown(options=[1, 2], value=1, description='Combustível:')\n",
        "km_widget = widgets.FloatSlider(value=15000, min=0, max=300000, step=1000, description='Km Rodados:')\n",
        "\n",
        "# Função de previsão\n",
        "def fazer_previsao(peso, ano, combustivel, km):\n",
        "    # Criar um DataFrame com as colunas corretas\n",
        "    dados = pd.DataFrame([[peso, ano, combustivel, km]], columns=['Peso', 'Ano', 'Combustível', 'Km'])\n",
        "    consumo_previsto = melhor_pipeline.predict(dados)\n",
        "    print(f\"Consumo previsto: {consumo_previsto[0]:.2f} km/l\")\n",
        "\n",
        "# Botão para previsão\n",
        "botao_previsao = widgets.Button(description='Prever Consumo')\n",
        "botao_previsao.on_click(lambda b: fazer_previsao(peso_widget.value, ano_widget.value, combustivel_widget.value, km_widget.value))\n",
        "\n",
        "# Exibir widgets\n",
        "display(peso_widget, ano_widget, combustivel_widget, km_widget, botao_previsao)"
      ],
      "metadata": {
        "colab": {
          "base_uri": "https://localhost:8080/",
          "height": 262,
          "referenced_widgets": [
            "604188b5e8f149fd903b55855106c751",
            "75f3d322293943c28bcec324d3983edb",
            "e63ce67338134592a489d815715cf06e",
            "56505457af1a4855862f54a48c400b50",
            "ef739586074c4be69deff3c2bb310532",
            "a27c8bcf7be043d38974febe2995cb1a",
            "59c183df8d414a708d9a95b86c2b729f",
            "8850e0eb8a0045bfab643f75d6ab34e8",
            "c51097a0a3a54b77bd614b0417829caa",
            "f6db607b4fdb4e83a8e1358e79be3a0b",
            "f21e4268b43a40868cc4c91ab31441cc",
            "b9cf1492aa9b40e2a22ee65bc65140f1",
            "1704d6b7033c4e70831f2be32ef50917",
            "37d3d8899f27407191d5160acb987fb5",
            "04efff1dfb754b2ea2cc3e8728518db6"
          ]
        },
        "id": "IGY1ZUBB5OPq",
        "outputId": "f3b1cf88-2a6e-4555-e79f-b6fb36a67101"
      },
      "execution_count": 50,
      "outputs": [
        {
          "output_type": "display_data",
          "data": {
            "text/plain": [
              "FloatSlider(value=1200.0, description='Peso (kg):', max=3000.0, min=500.0, step=50.0)"
            ],
            "application/vnd.jupyter.widget-view+json": {
              "version_major": 2,
              "version_minor": 0,
              "model_id": "604188b5e8f149fd903b55855106c751"
            }
          },
          "metadata": {}
        },
        {
          "output_type": "display_data",
          "data": {
            "text/plain": [
              "IntSlider(value=2020, description='Ano:', max=2024, min=1990)"
            ],
            "application/vnd.jupyter.widget-view+json": {
              "version_major": 2,
              "version_minor": 0,
              "model_id": "56505457af1a4855862f54a48c400b50"
            }
          },
          "metadata": {}
        },
        {
          "output_type": "display_data",
          "data": {
            "text/plain": [
              "Dropdown(description='Combustível:', options=(1, 2), value=1)"
            ],
            "application/vnd.jupyter.widget-view+json": {
              "version_major": 2,
              "version_minor": 0,
              "model_id": "59c183df8d414a708d9a95b86c2b729f"
            }
          },
          "metadata": {}
        },
        {
          "output_type": "display_data",
          "data": {
            "text/plain": [
              "FloatSlider(value=15000.0, description='Km Rodados:', max=300000.0, step=1000.0)"
            ],
            "application/vnd.jupyter.widget-view+json": {
              "version_major": 2,
              "version_minor": 0,
              "model_id": "f6db607b4fdb4e83a8e1358e79be3a0b"
            }
          },
          "metadata": {}
        },
        {
          "output_type": "display_data",
          "data": {
            "text/plain": [
              "Button(description='Prever Consumo', style=ButtonStyle())"
            ],
            "application/vnd.jupyter.widget-view+json": {
              "version_major": 2,
              "version_minor": 0,
              "model_id": "1704d6b7033c4e70831f2be32ef50917"
            }
          },
          "metadata": {}
        },
        {
          "output_type": "stream",
          "name": "stdout",
          "text": [
            "Consumo previsto: 13.37 km/l\n",
            "Consumo previsto: 13.39 km/l\n",
            "Consumo previsto: 11.50 km/l\n",
            "Consumo previsto: 11.50 km/l\n",
            "Consumo previsto: 4.36 km/l\n"
          ]
        }
      ]
    }
  ]
}